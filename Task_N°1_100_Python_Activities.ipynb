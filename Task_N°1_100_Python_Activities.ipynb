{
  "cells": [
    {
      "cell_type": "markdown",
      "metadata": {
        "id": "view-in-github",
        "colab_type": "text"
      },
      "source": [
        "<a href=\"https://colab.research.google.com/github/Bhatss/BT---Advanced-Python/blob/main/Task_N%C2%B01_100_Python_Activities.ipynb\" target=\"_parent\"><img src=\"https://colab.research.google.com/assets/colab-badge.svg\" alt=\"Open In Colab\"/></a>"
      ]
    },
    {
      "cell_type": "markdown",
      "source": [
        "##Let’s tackle 100 coding problems from basics to advanced. Here you go:"
      ],
      "metadata": {
        "id": "vzCLvstxn82R"
      },
      "id": "vzCLvstxn82R"
    },
    {
      "cell_type": "markdown",
      "source": [
        "##Basic Coding Questions (1-30)"
      ],
      "metadata": {
        "id": "VaTmFUUon-bw"
      },
      "id": "VaTmFUUon-bw"
    },
    {
      "cell_type": "markdown",
      "id": "c4895b61",
      "metadata": {
        "id": "c4895b61"
      },
      "source": [
        "1. Write a Python program to print \"Hello, World!\""
      ]
    },
    {
      "cell_type": "code",
      "execution_count": null,
      "id": "80c3e7b2",
      "metadata": {
        "id": "80c3e7b2",
        "colab": {
          "base_uri": "https://localhost:8080/"
        },
        "outputId": "55ef8d8e-22f8-4978-af65-40e8b92ab929"
      },
      "outputs": [
        {
          "output_type": "stream",
          "name": "stdout",
          "text": [
            "Hello, World!\n"
          ]
        }
      ],
      "source": [
        "def say_hello(x):\n",
        "  print(x)\n",
        "\n",
        "say_hello(\"Hello, World!\")"
      ]
    },
    {
      "cell_type": "markdown",
      "id": "2ebb77f5",
      "metadata": {
        "id": "2ebb77f5"
      },
      "source": [
        "2. Write a Python program to add two numbers."
      ]
    },
    {
      "cell_type": "code",
      "execution_count": null,
      "id": "7aadb870",
      "metadata": {
        "id": "7aadb870",
        "colab": {
          "base_uri": "https://localhost:8080/"
        },
        "outputId": "9a8898d3-dbb1-4831-932d-d706b1a0fde0"
      },
      "outputs": [
        {
          "output_type": "stream",
          "name": "stdout",
          "text": [
            "9\n"
          ]
        }
      ],
      "source": [
        "def add_nums(x,y):\n",
        "  print(x+y)\n",
        "\n",
        "add_nums(5,4)"
      ]
    },
    {
      "cell_type": "markdown",
      "id": "8f32c010",
      "metadata": {
        "id": "8f32c010"
      },
      "source": [
        "3. Write a Python program to find the square root of a number."
      ]
    },
    {
      "cell_type": "code",
      "execution_count": null,
      "id": "1076d3b0",
      "metadata": {
        "id": "1076d3b0",
        "colab": {
          "base_uri": "https://localhost:8080/"
        },
        "outputId": "4fb8c509-2046-47a2-91e2-31876659444c"
      },
      "outputs": [
        {
          "output_type": "execute_result",
          "data": {
            "text/plain": [
              "2.0"
            ]
          },
          "metadata": {},
          "execution_count": 3
        }
      ],
      "source": [
        "import math\n",
        "\n",
        "def square_root(n):\n",
        "  return math.sqrt(n)\n",
        "\n",
        "square_root(4)"
      ]
    },
    {
      "cell_type": "code",
      "source": [
        "#Babylonian Method\n",
        "def manual_square_root(n, iterations = 100):\n",
        "  guess = n/2\n",
        "  for i in range(iterations):\n",
        "    guess = (guess+n/guess)/2\n",
        "  return guess\n",
        "\n",
        "manual_square_root(25)"
      ],
      "metadata": {
        "colab": {
          "base_uri": "https://localhost:8080/"
        },
        "id": "o1hT0XFXpXft",
        "outputId": "3045df68-811f-449a-a32c-ba0985f050b7"
      },
      "id": "o1hT0XFXpXft",
      "execution_count": null,
      "outputs": [
        {
          "output_type": "execute_result",
          "data": {
            "text/plain": [
              "5.0"
            ]
          },
          "metadata": {},
          "execution_count": 7
        }
      ]
    },
    {
      "cell_type": "code",
      "source": [
        "def manual_square_root(n, iterations = 5):\n",
        "  guess = n/2\n",
        "  for i in range(iterations):\n",
        "    guess = (guess+n/guess)/2\n",
        "  return guess\n",
        "\n",
        "manual_square_root(25)"
      ],
      "metadata": {
        "colab": {
          "base_uri": "https://localhost:8080/"
        },
        "id": "DI0l9jzjtYkC",
        "outputId": "889172ea-dadc-4334-85aa-175c265ecde2"
      },
      "id": "DI0l9jzjtYkC",
      "execution_count": null,
      "outputs": [
        {
          "output_type": "execute_result",
          "data": {
            "text/plain": [
              "5.000000000016778"
            ]
          },
          "metadata": {},
          "execution_count": 8
        }
      ]
    },
    {
      "cell_type": "markdown",
      "id": "7f725f42",
      "metadata": {
        "id": "7f725f42"
      },
      "source": [
        "4. Write a Python program to swap two variables."
      ]
    },
    {
      "cell_type": "code",
      "execution_count": null,
      "id": "a230bb73",
      "metadata": {
        "id": "a230bb73",
        "colab": {
          "base_uri": "https://localhost:8080/"
        },
        "outputId": "609be6dd-3026-403e-824d-67a82a98cbde"
      },
      "outputs": [
        {
          "output_type": "stream",
          "name": "stdout",
          "text": [
            "x =  4\n",
            "y =  2\n"
          ]
        }
      ],
      "source": [
        "def swap(x,y):\n",
        "  temp = x\n",
        "  x = y\n",
        "  print(\"x = \", x)\n",
        "  y = temp\n",
        "  print(\"y = \", y)\n",
        "\n",
        "swap(2,4)"
      ]
    },
    {
      "cell_type": "markdown",
      "id": "f6ea5b17",
      "metadata": {
        "id": "f6ea5b17"
      },
      "source": [
        "5. Write a Python program to find the area of a triangle."
      ]
    },
    {
      "cell_type": "code",
      "execution_count": null,
      "id": "a769af6b",
      "metadata": {
        "id": "a769af6b",
        "colab": {
          "base_uri": "https://localhost:8080/"
        },
        "outputId": "8d68e79c-5e5f-4064-800d-e3330436845e"
      },
      "outputs": [
        {
          "output_type": "stream",
          "name": "stdout",
          "text": [
            "12.0\n"
          ]
        }
      ],
      "source": [
        "def area_triangle(base, height):\n",
        "  area = 0.5 * base * height\n",
        "  print(area)\n",
        "\n",
        "area_triangle(4,6)"
      ]
    },
    {
      "cell_type": "markdown",
      "id": "d6c7f59f",
      "metadata": {
        "id": "d6c7f59f"
      },
      "source": [
        "6. Write a Python program to solve quadratic equations."
      ]
    },
    {
      "cell_type": "code",
      "execution_count": null,
      "id": "c6b908c9",
      "metadata": {
        "id": "c6b908c9",
        "colab": {
          "base_uri": "https://localhost:8080/"
        },
        "outputId": "a42b9f1d-87e0-4e5d-9feb-96adc18da6c7"
      },
      "outputs": [
        {
          "output_type": "stream",
          "name": "stdout",
          "text": [
            "-2.0\n",
            "-3.0\n"
          ]
        }
      ],
      "source": [
        "#(-b ± (b ** 2 - 4 * a * c) ** 0.5) / (2 * a)\n",
        "import math\n",
        "def quadratic(a,b,c):\n",
        "  discriminant = (b**2) - (4*a*c)\n",
        "  ans1 = (-b + math.sqrt(discriminant)) / (2 *a)\n",
        "  ans2 = (-b - math.sqrt(discriminant)) / (2 *a)\n",
        "  print(ans1)\n",
        "  print(ans2)\n",
        "\n",
        "quadratic(1,5,6)"
      ]
    },
    {
      "cell_type": "markdown",
      "id": "84d19ebd",
      "metadata": {
        "id": "84d19ebd"
      },
      "source": [
        "7. Write a Python program to generate a random number."
      ]
    },
    {
      "cell_type": "code",
      "execution_count": null,
      "id": "881853ce",
      "metadata": {
        "id": "881853ce",
        "colab": {
          "base_uri": "https://localhost:8080/"
        },
        "outputId": "94d5b24d-0510-4173-be70-f07d0102a496"
      },
      "outputs": [
        {
          "output_type": "stream",
          "name": "stdout",
          "text": [
            "19\n",
            "36\n"
          ]
        }
      ],
      "source": [
        "import random\n",
        "def rand_num(num1):\n",
        "  x = random.randint(0,100)\n",
        "  print(x)\n",
        "\n",
        "rand_num(1)\n",
        "rand_num('a')"
      ]
    },
    {
      "cell_type": "markdown",
      "id": "db927aaf",
      "metadata": {
        "id": "db927aaf"
      },
      "source": [
        "8. Write a Python program to convert kilometers to miles."
      ]
    },
    {
      "cell_type": "code",
      "execution_count": null,
      "id": "e321f860",
      "metadata": {
        "id": "e321f860",
        "colab": {
          "base_uri": "https://localhost:8080/"
        },
        "outputId": "cf51c29b-2cf8-4b0d-c134-701229387755"
      },
      "outputs": [
        {
          "output_type": "stream",
          "name": "stdout",
          "text": [
            "3.11\n"
          ]
        }
      ],
      "source": [
        "def km_to_m(kilometers):\n",
        "  miles = kilometers*0.62137\n",
        "  print(round(miles,2))\n",
        "\n",
        "km_to_m(5)"
      ]
    },
    {
      "cell_type": "markdown",
      "id": "17312243",
      "metadata": {
        "id": "17312243"
      },
      "source": [
        "9. Write a Python program to convert Celsius to Fahrenheit."
      ]
    },
    {
      "cell_type": "code",
      "execution_count": null,
      "id": "69e7f3f6",
      "metadata": {
        "id": "69e7f3f6",
        "colab": {
          "base_uri": "https://localhost:8080/"
        },
        "outputId": "0952da63-547b-4a12-fe5b-4a043ff25a15"
      },
      "outputs": [
        {
          "output_type": "stream",
          "name": "stdout",
          "text": [
            "77.0\n"
          ]
        }
      ],
      "source": [
        "def c_to_f(celsius):\n",
        "  fahrenheit = (9/5)*celsius+32\n",
        "  print(fahrenheit)\n",
        "\n",
        "c_to_f(25)"
      ]
    },
    {
      "cell_type": "markdown",
      "id": "fc8070c1",
      "metadata": {
        "id": "fc8070c1"
      },
      "source": [
        "10. Write a Python program to check if a number is positive, negative, or zero."
      ]
    },
    {
      "cell_type": "code",
      "execution_count": null,
      "id": "6cb704ea",
      "metadata": {
        "id": "6cb704ea",
        "colab": {
          "base_uri": "https://localhost:8080/"
        },
        "outputId": "b9ad6b69-fb14-48c1-90a2-dc98f766c014"
      },
      "outputs": [
        {
          "output_type": "stream",
          "name": "stdout",
          "text": [
            "0  is zero.\n",
            "5  is positive.\n",
            "-5  is negative\n"
          ]
        }
      ],
      "source": [
        "def check_sign(num):\n",
        "  if num == 0:\n",
        "    print(num, \" is zero.\")\n",
        "  elif num > 0:\n",
        "    print(num, \" is positive.\")\n",
        "  else:\n",
        "    print(num, \" is negative\")\n",
        "\n",
        "check_sign(0)\n",
        "check_sign(5)\n",
        "check_sign(-5)"
      ]
    },
    {
      "cell_type": "markdown",
      "id": "5f6bf02f",
      "metadata": {
        "id": "5f6bf02f"
      },
      "source": [
        "11. Write a Python program to check if a number is odd or even."
      ]
    },
    {
      "cell_type": "code",
      "execution_count": null,
      "id": "f2212b4c",
      "metadata": {
        "id": "f2212b4c",
        "colab": {
          "base_uri": "https://localhost:8080/"
        },
        "outputId": "473578c2-d196-4932-f815-8fd52cedfcc7"
      },
      "outputs": [
        {
          "output_type": "stream",
          "name": "stdout",
          "text": [
            "111  is odd.\n",
            "112  is even.\n"
          ]
        }
      ],
      "source": [
        "def odd_or_even(num):\n",
        "  if num%2 == 0:\n",
        "    print(num, \" is even.\")\n",
        "  else:\n",
        "    print(num, \" is odd.\")\n",
        "\n",
        "odd_or_even(111)\n",
        "odd_or_even(112)"
      ]
    },
    {
      "cell_type": "markdown",
      "id": "b83b3020",
      "metadata": {
        "id": "b83b3020"
      },
      "source": [
        "12. Write a Python program to check leap year."
      ]
    },
    {
      "cell_type": "code",
      "execution_count": null,
      "id": "a103a8b0",
      "metadata": {
        "id": "a103a8b0",
        "colab": {
          "base_uri": "https://localhost:8080/"
        },
        "outputId": "4e98f1ff-4b54-41da-c34d-12d08d060785"
      },
      "outputs": [
        {
          "output_type": "stream",
          "name": "stdout",
          "text": [
            "2017  is not a leap year.\n",
            "1900 is not a leap year.\n",
            "2012  is a leap year.\n",
            "2000  is a leap year.\n"
          ]
        }
      ],
      "source": [
        "def leap_year(year):\n",
        "  century = str(year)\n",
        "  if century[-2:] == '00':\n",
        "    if year%400 == 0:\n",
        "      print(century, \" is a leap year.\")\n",
        "    else:\n",
        "      print(century, \"is not a leap year.\")\n",
        "  elif year%4 == 0:\n",
        "    print(year, \" is a leap year.\")\n",
        "  else:\n",
        "    print(year, \" is not a leap year.\")\n",
        "\n",
        "leap_year(2017)\n",
        "leap_year(1900)\n",
        "leap_year(2012)\n",
        "leap_year(2000)"
      ]
    },
    {
      "cell_type": "markdown",
      "id": "d265039e",
      "metadata": {
        "id": "d265039e"
      },
      "source": [
        "13. Write a Python program to find the largest among three numbers."
      ]
    },
    {
      "cell_type": "code",
      "execution_count": null,
      "id": "af8eed02",
      "metadata": {
        "id": "af8eed02",
        "colab": {
          "base_uri": "https://localhost:8080/"
        },
        "outputId": "63b287e2-0c48-4afc-d76a-cbe29c400574"
      },
      "outputs": [
        {
          "output_type": "stream",
          "name": "stdout",
          "text": [
            "900 is the largest number.\n"
          ]
        }
      ],
      "source": [
        "def largest_num(x,y,z):\n",
        "  if x > y and x > z:\n",
        "    print(x, \"is the largest number.\")\n",
        "  elif y > x and y > z:\n",
        "    print(y, \"is the largest number.\")\n",
        "  else:\n",
        "    print(z, \"is the largest number.\")\n",
        "\n",
        "largest_num(900,8,300)"
      ]
    },
    {
      "cell_type": "markdown",
      "id": "d1de0bf4",
      "metadata": {
        "id": "d1de0bf4"
      },
      "source": [
        "14. Write a Python program to check prime number."
      ]
    },
    {
      "cell_type": "code",
      "execution_count": null,
      "id": "b9f439c5",
      "metadata": {
        "id": "b9f439c5",
        "colab": {
          "base_uri": "https://localhost:8080/"
        },
        "outputId": "f564faf5-4856-43f2-aece-76de538c300f"
      },
      "outputs": [
        {
          "output_type": "stream",
          "name": "stdout",
          "text": [
            "Not a prime number.\n",
            "Is a prime number.\n",
            "Not a prime number.\n",
            "Is a prime number.\n",
            "Is a prime number.\n",
            "Is a prime number.\n",
            "Not a prime number.\n",
            "Is a prime number.\n",
            "Is a prime number.\n"
          ]
        }
      ],
      "source": [
        "def prime_num(random_num):\n",
        "  a = range(2,11)\n",
        "  for i in a:\n",
        "    if random_num % i == 0:\n",
        "      print(\"Not a prime number.\")\n",
        "    else:\n",
        "      print(\"Is a prime number.\")\n",
        "prime_num(8)"
      ]
    },
    {
      "cell_type": "markdown",
      "id": "fab44f8b",
      "metadata": {
        "id": "fab44f8b"
      },
      "source": [
        "15. Write a Python program to print all prime numbers in an interval."
      ]
    },
    {
      "cell_type": "code",
      "execution_count": null,
      "id": "1c20611d",
      "metadata": {
        "id": "1c20611d",
        "colab": {
          "base_uri": "https://localhost:8080/"
        },
        "outputId": "e9db9547-79c4-4b5a-a0e5-4fd68afbed56"
      },
      "outputs": [
        {
          "output_type": "stream",
          "name": "stdout",
          "text": [
            "11\n",
            "13\n",
            "17\n",
            "19\n",
            "23\n",
            "29\n",
            "31\n",
            "37\n",
            "41\n",
            "43\n",
            "47\n"
          ]
        }
      ],
      "source": [
        "def prime_nums(start,end):\n",
        "  for num in range(start,end+1):\n",
        "    if num > 1:\n",
        "      for i in range(2, int(num**0.5) +1 ):\n",
        "        if num % i == 0:\n",
        "          break\n",
        "      else:\n",
        "        print(num)\n",
        "\n",
        "prime_nums(10,50)"
      ]
    },
    {
      "cell_type": "markdown",
      "id": "5cd434ea",
      "metadata": {
        "id": "5cd434ea"
      },
      "source": [
        "16. Write a Python program to find the factorial of a number."
      ]
    },
    {
      "cell_type": "code",
      "execution_count": null,
      "id": "78fdb1c2",
      "metadata": {
        "id": "78fdb1c2",
        "colab": {
          "base_uri": "https://localhost:8080/"
        },
        "outputId": "c9e97348-d56d-449c-f533-a354c99deba7"
      },
      "outputs": [
        {
          "output_type": "execute_result",
          "data": {
            "text/plain": [
              "120"
            ]
          },
          "metadata": {},
          "execution_count": 31
        }
      ],
      "source": [
        "def factorial_num(num):\n",
        "  factorial = 1\n",
        "  for i in range(1, num+1):\n",
        "    factorial *= i\n",
        "  return factorial\n",
        "factorial_num(5)"
      ]
    },
    {
      "cell_type": "markdown",
      "id": "2adb819c",
      "metadata": {
        "id": "2adb819c"
      },
      "source": [
        "17. Write a Python program to display the multiplication table."
      ]
    },
    {
      "cell_type": "code",
      "execution_count": null,
      "id": "86f3c8f2",
      "metadata": {
        "id": "86f3c8f2",
        "colab": {
          "base_uri": "https://localhost:8080/"
        },
        "outputId": "9e422338-0db4-4a94-d58f-b19519a8880a"
      },
      "outputs": [
        {
          "output_type": "stream",
          "name": "stdout",
          "text": [
            "5 x 1 = 5\n",
            "5 x 2 = 10\n",
            "5 x 3 = 15\n",
            "5 x 4 = 20\n",
            "5 x 5 = 25\n",
            "5 x 6 = 30\n",
            "5 x 7 = 35\n",
            "5 x 8 = 40\n",
            "5 x 9 = 45\n",
            "5 x 10 = 50\n"
          ]
        }
      ],
      "source": [
        "def multiplication_table(num):\n",
        "  for i in range(1, 11):\n",
        "    print(num, 'x', i, '=', num*i)\n",
        "\n",
        "multiplication_table(5)"
      ]
    },
    {
      "cell_type": "markdown",
      "id": "00b1803e",
      "metadata": {
        "id": "00b1803e"
      },
      "source": [
        "18. Write a Python program to print the Fibonacci sequence."
      ]
    },
    {
      "cell_type": "code",
      "execution_count": null,
      "id": "0985ca23",
      "metadata": {
        "id": "0985ca23"
      },
      "outputs": [],
      "source": [
        "# How to do this as a function?"
      ]
    },
    {
      "cell_type": "markdown",
      "id": "189ea50f",
      "metadata": {
        "id": "189ea50f"
      },
      "source": [
        "19. Write a Python program to check Armstrong number."
      ]
    },
    {
      "cell_type": "code",
      "execution_count": null,
      "id": "31314453",
      "metadata": {
        "id": "31314453",
        "colab": {
          "base_uri": "https://localhost:8080/"
        },
        "outputId": "5a5e19f2-cbcf-4b1e-8b80-d5ef3f00a120"
      },
      "outputs": [
        {
          "output_type": "stream",
          "name": "stdout",
          "text": [
            "[1, 2, 3]\n",
            "[1, 8, 27]\n",
            "36\n",
            "123 is not an armstrong number.\n",
            "[1, 5, 3]\n",
            "[1, 125, 27]\n",
            "153\n",
            "153  is an armstrong number.\n"
          ]
        }
      ],
      "source": [
        "def armstrong_number(num):\n",
        "  num = str(num)\n",
        "  l = []\n",
        "  length = len(num)\n",
        "  for i in range(length):\n",
        "    l.append(int(num[i]))\n",
        "  print(l)\n",
        "  l2 = []\n",
        "  for i in l:\n",
        "    l2.append(i*i*i)\n",
        "  print(l2)\n",
        "  total = sum(l2)\n",
        "  print(total)\n",
        "  num = int(num)\n",
        "  if total == num:\n",
        "    print(num, \" is an armstrong number.\")\n",
        "  else:\n",
        "    print(num, \"is not an armstrong number.\")\n",
        "\n",
        "armstrong_number(123)\n",
        "armstrong_number(153)"
      ]
    },
    {
      "cell_type": "markdown",
      "id": "aaa5e50e",
      "metadata": {
        "id": "aaa5e50e"
      },
      "source": [
        "20. Write a Python program to find the sum of natural numbers."
      ]
    },
    {
      "cell_type": "code",
      "execution_count": null,
      "id": "3e8dfe88",
      "metadata": {
        "id": "3e8dfe88",
        "colab": {
          "base_uri": "https://localhost:8080/"
        },
        "outputId": "fae2bae2-4a31-4342-bbde-cce51b0ffcd9"
      },
      "outputs": [
        {
          "output_type": "stream",
          "name": "stdout",
          "text": [
            "136\n"
          ]
        }
      ],
      "source": [
        "def natural_sum(num):\n",
        "  if num < 0:\n",
        "    print(\"Please enter a positive number.\")\n",
        "  else:\n",
        "    sum = 0\n",
        "    while(num>0):\n",
        "      sum += num\n",
        "      num -= 1\n",
        "    print(sum)\n",
        "\n",
        "natural_sum(16)"
      ]
    },
    {
      "cell_type": "markdown",
      "id": "40765ef8",
      "metadata": {
        "id": "40765ef8"
      },
      "source": [
        "21. Write a Python program to find the factors of a number."
      ]
    },
    {
      "cell_type": "code",
      "execution_count": null,
      "id": "c47e05a4",
      "metadata": {
        "id": "c47e05a4",
        "colab": {
          "base_uri": "https://localhost:8080/"
        },
        "outputId": "57c022a1-4d4c-4b52-a987-d61cb187d094"
      },
      "outputs": [
        {
          "output_type": "stream",
          "name": "stdout",
          "text": [
            "[1]\n",
            "[1, 2]\n",
            "[1, 2, 5]\n",
            "[1, 2, 5, 10]\n"
          ]
        }
      ],
      "source": [
        "#How do I get it to print only the final list?\n",
        "def factors(num):\n",
        "  factors = []\n",
        "  for i in range(1,num+1):\n",
        "    if num % i == 0:\n",
        "      factors.append(i)\n",
        "      print(factors)\n",
        "\n",
        "factors(10)"
      ]
    },
    {
      "cell_type": "markdown",
      "id": "aeeb0164",
      "metadata": {
        "id": "aeeb0164"
      },
      "source": [
        "22. Write a Python program to convert decimal to binary, octal, and hexadecimal."
      ]
    },
    {
      "cell_type": "code",
      "source": [
        "def decimal_binary(decimal):\n",
        "  remainders = []\n",
        "  while decimal > 0:\n",
        "    remainder = remainders.append(decimal%2)\n",
        "    decimal = decimal//2\n",
        "  print(remainders)\n",
        "\n",
        "decimal_binary(13)"
      ],
      "metadata": {
        "colab": {
          "base_uri": "https://localhost:8080/"
        },
        "id": "YHeEkENmMlKS",
        "outputId": "cdebf6f6-403d-467b-d613-983cbf94eaa5"
      },
      "id": "YHeEkENmMlKS",
      "execution_count": null,
      "outputs": [
        {
          "output_type": "stream",
          "name": "stdout",
          "text": [
            "[1, 0, 1, 1]\n"
          ]
        }
      ]
    },
    {
      "cell_type": "code",
      "source": [
        "def decimal_octal(decimal):\n",
        "  remainders = []\n",
        "  while decimal > 0:\n",
        "    remainders.append(decimal%8)\n",
        "    decimal = decimal//8\n",
        "    reversed_remainders = list(reversed(remainders))\n",
        "  print(reversed_remainders)\n",
        "\n",
        "decimal_octal(25)"
      ],
      "metadata": {
        "colab": {
          "base_uri": "https://localhost:8080/"
        },
        "id": "huvixVLQPRwp",
        "outputId": "ce210500-d03b-4ba9-a3f4-c5ed55f2d27e"
      },
      "id": "huvixVLQPRwp",
      "execution_count": null,
      "outputs": [
        {
          "output_type": "stream",
          "name": "stdout",
          "text": [
            "[3, 1]\n"
          ]
        }
      ]
    },
    {
      "cell_type": "code",
      "source": [
        "#What is hexadecimal?"
      ],
      "metadata": {
        "id": "hNzBj2xiQhWH"
      },
      "id": "hNzBj2xiQhWH",
      "execution_count": null,
      "outputs": []
    },
    {
      "cell_type": "markdown",
      "id": "3c87a213",
      "metadata": {
        "id": "3c87a213"
      },
      "source": [
        "23. Write a Python program to find ASCII value of a character."
      ]
    },
    {
      "cell_type": "code",
      "execution_count": null,
      "id": "14f60824",
      "metadata": {
        "id": "14f60824",
        "colab": {
          "base_uri": "https://localhost:8080/"
        },
        "outputId": "5770fb5c-3b90-4f62-9726-b2612d29b310"
      },
      "outputs": [
        {
          "output_type": "stream",
          "name": "stdout",
          "text": [
            "112\n",
            "p\n"
          ]
        }
      ],
      "source": [
        "def acii_val_num(x):\n",
        "  print(ord(x))\n",
        "\n",
        "acii_val_num('p')\n",
        "\n",
        "def acii_val_char(x):\n",
        "  print(chr(x))\n",
        "\n",
        "acii_val_char(112)"
      ]
    },
    {
      "cell_type": "markdown",
      "id": "892d77a4",
      "metadata": {
        "id": "892d77a4"
      },
      "source": [
        "24. Write a Python program to find HCF or GCD."
      ]
    },
    {
      "cell_type": "code",
      "execution_count": null,
      "id": "5c2e3c92",
      "metadata": {
        "id": "5c2e3c92",
        "colab": {
          "base_uri": "https://localhost:8080/"
        },
        "outputId": "89dcbcd2-5f6c-46fb-cece-e16ce724e769"
      },
      "outputs": [
        {
          "output_type": "stream",
          "name": "stdout",
          "text": [
            "2\n"
          ]
        }
      ],
      "source": [
        "def hcf(num1, num2):\n",
        "  num1_denom = []\n",
        "  for i in range (1,num1+1):\n",
        "    if num1%i == 0:\n",
        "      num1_denom.append(i)\n",
        "  #print(num1_denom)\n",
        "  num2_denom = []\n",
        "  for i in range (1,num2+1):\n",
        "    if num2%i == 0:\n",
        "      num2_denom.append(i)\n",
        "  #print(num2_denom)\n",
        "  set_num1_denom = set(num1_denom)\n",
        "  set_num2_denom = set(num2_denom)\n",
        "  intersection = set_num1_denom & set_num2_denom\n",
        "  list_intersection = list(intersection)\n",
        "  print(max(list_intersection))\n",
        "\n",
        "hcf(12,14)"
      ]
    },
    {
      "cell_type": "markdown",
      "id": "45e7c7ec",
      "metadata": {
        "id": "45e7c7ec"
      },
      "source": [
        "25. Write a Python program to find LCM."
      ]
    },
    {
      "cell_type": "code",
      "execution_count": null,
      "id": "4272f7a6",
      "metadata": {
        "id": "4272f7a6"
      },
      "outputs": [],
      "source": [
        "###Not sure how to implement."
      ]
    },
    {
      "cell_type": "markdown",
      "id": "d1ca75c0",
      "metadata": {
        "id": "d1ca75c0"
      },
      "source": [
        "26. Write a Python program to count the number of each vowel."
      ]
    },
    {
      "cell_type": "code",
      "execution_count": null,
      "id": "14a94e61",
      "metadata": {
        "id": "14a94e61",
        "colab": {
          "base_uri": "https://localhost:8080/"
        },
        "outputId": "35d8969d-83c6-46f6-c9b9-5997c0c0cd77"
      },
      "outputs": [
        {
          "output_type": "stream",
          "name": "stdout",
          "text": [
            "{'a': 3, 'e': 5, 'i': 1, 'o': 6, 'u': 2}\n"
          ]
        }
      ],
      "source": [
        "def count_of_vowel(string):\n",
        "  vowels = {'a' : 0, 'e' : 0, 'i' : 0, 'o' : 0, 'u' : 0}\n",
        "  string = string.lower()\n",
        "  for letter in string:\n",
        "    if letter in vowels:\n",
        "      vowels[letter] += 1\n",
        "  print(vowels)\n",
        "\n",
        "count_of_vowel(\"Write a Python program to count the number of each vowel\")"
      ]
    },
    {
      "cell_type": "markdown",
      "id": "16b5cc09",
      "metadata": {
        "id": "16b5cc09"
      },
      "source": [
        "27. Write a Python program to find the sum of digits of a number."
      ]
    },
    {
      "cell_type": "code",
      "execution_count": null,
      "id": "791b2365",
      "metadata": {
        "id": "791b2365",
        "colab": {
          "base_uri": "https://localhost:8080/"
        },
        "outputId": "8cf4f952-ab4a-4697-c98a-b97843ff20fd"
      },
      "outputs": [
        {
          "output_type": "stream",
          "name": "stdout",
          "text": [
            "15\n"
          ]
        }
      ],
      "source": [
        "def sum_of_digits(num):\n",
        "  num = str(num)\n",
        "  l = []\n",
        "  length = len(num)\n",
        "  for i in range(length):\n",
        "    l.append(int(num[i]))\n",
        "  print(sum(l))\n",
        "\n",
        "sum_of_digits(555)"
      ]
    },
    {
      "cell_type": "markdown",
      "id": "848a05ed",
      "metadata": {
        "id": "848a05ed"
      },
      "source": [
        "28. Write a Python program to find the reverse of a number."
      ]
    },
    {
      "cell_type": "code",
      "execution_count": null,
      "id": "bb88ed2c",
      "metadata": {
        "id": "bb88ed2c",
        "colab": {
          "base_uri": "https://localhost:8080/"
        },
        "outputId": "f19af97a-412b-4805-90ca-c6c750200d23"
      },
      "outputs": [
        {
          "output_type": "stream",
          "name": "stdout",
          "text": [
            "798\n"
          ]
        }
      ],
      "source": [
        "def reverse_num(num):\n",
        "  print(str(num)[::-1])\n",
        "\n",
        "reverse_num(897)"
      ]
    },
    {
      "cell_type": "markdown",
      "id": "33b01807",
      "metadata": {
        "id": "33b01807"
      },
      "source": [
        "29. Write a Python program to check if a number is palindrome or not."
      ]
    },
    {
      "cell_type": "code",
      "execution_count": null,
      "id": "dbc7b695",
      "metadata": {
        "id": "dbc7b695",
        "colab": {
          "base_uri": "https://localhost:8080/"
        },
        "outputId": "1c121491-b14e-4959-b0dd-8d8d2a4ececf"
      },
      "outputs": [
        {
          "output_type": "stream",
          "name": "stdout",
          "text": [
            "This is a palindrome.\n",
            "This is not a palindrome.\n"
          ]
        }
      ],
      "source": [
        "def palindrome(num):\n",
        "  if str(num) == str(num)[::-1]:\n",
        "    print(\"This is a palindrome.\")\n",
        "  else:\n",
        "    print(\"This is not a palindrome.\")\n",
        "\n",
        "palindrome(111)\n",
        "palindrome(123)"
      ]
    },
    {
      "cell_type": "markdown",
      "id": "eb1bc881",
      "metadata": {
        "id": "eb1bc881"
      },
      "source": [
        "30. Write a Python program to print Pascal’s triangle."
      ]
    },
    {
      "cell_type": "code",
      "execution_count": null,
      "id": "7a624c89",
      "metadata": {
        "id": "7a624c89"
      },
      "outputs": [],
      "source": [
        "####How do I do this?\n",
        "def pascals_triangle(rows):\n",
        "  start = 1\n",
        "  next =\n"
      ]
    },
    {
      "cell_type": "markdown",
      "source": [
        "##Intermediate Coding Questions (31-60)"
      ],
      "metadata": {
        "id": "1wQiXVZaoV-9"
      },
      "id": "1wQiXVZaoV-9"
    },
    {
      "cell_type": "markdown",
      "source": [
        "I AM GENERALLY HAVING TROUBLE ITERATING THROUGH ITEMS IN A LIST OR OTHERWISE. NEED TO GO OVER"
      ],
      "metadata": {
        "id": "LzLiwKflVNC5"
      },
      "id": "LzLiwKflVNC5"
    },
    {
      "cell_type": "markdown",
      "id": "2071b16f",
      "metadata": {
        "id": "2071b16f"
      },
      "source": [
        "31. Write a Python program to sort a list in ascending order."
      ]
    },
    {
      "cell_type": "code",
      "execution_count": null,
      "id": "e0becc93",
      "metadata": {
        "id": "e0becc93",
        "colab": {
          "base_uri": "https://localhost:8080/"
        },
        "outputId": "f645f49d-4885-4ed9-c44e-3e1f172e266f"
      },
      "outputs": [
        {
          "output_type": "stream",
          "name": "stdout",
          "text": [
            "[1, 3, 5, 9]\n",
            "[1, 3, 5, 9]\n"
          ]
        }
      ],
      "source": [
        "def sorted_list(l):\n",
        "  sorted_l = sorted(l)\n",
        "  print(sorted_l)\n",
        "\n",
        "sorted_list([5,9,3,1])\n",
        "\n",
        "def sorted_list(l):\n",
        "  l.sort()\n",
        "  print(l)\n",
        "\n",
        "sorted_list([5,9,3,1])"
      ]
    },
    {
      "cell_type": "markdown",
      "id": "05f5ce04",
      "metadata": {
        "id": "05f5ce04"
      },
      "source": [
        "32. Write a Python program to sort a list in descending order."
      ]
    },
    {
      "cell_type": "code",
      "execution_count": null,
      "id": "3da284ea",
      "metadata": {
        "id": "3da284ea",
        "colab": {
          "base_uri": "https://localhost:8080/"
        },
        "outputId": "8ddc498e-6f4c-40a5-cf81-2d76a2e132c2"
      },
      "outputs": [
        {
          "output_type": "stream",
          "name": "stdout",
          "text": [
            "[9, 5, 3, 1]\n",
            "[9, 5, 3, 1]\n"
          ]
        }
      ],
      "source": [
        "def sorted_list(l):\n",
        "  sorted_l = sorted(l, reverse = True)\n",
        "  print(sorted_l)\n",
        "\n",
        "sorted_list([5,9,3,1])\n",
        "\n",
        "def sorted_list(l):\n",
        "  l.sort()\n",
        "  l.reverse()\n",
        "  print(l)\n",
        "\n",
        "sorted_list([5,9,3,1])"
      ]
    },
    {
      "cell_type": "markdown",
      "id": "8fce7d72",
      "metadata": {
        "id": "8fce7d72"
      },
      "source": [
        "33. Write a Python program to remove duplicates from a list."
      ]
    },
    {
      "cell_type": "code",
      "execution_count": null,
      "id": "50c03983",
      "metadata": {
        "id": "50c03983",
        "colab": {
          "base_uri": "https://localhost:8080/"
        },
        "outputId": "b5343281-1454-4b2f-eada-1ccf4eea8bf0"
      },
      "outputs": [
        {
          "output_type": "stream",
          "name": "stdout",
          "text": [
            "[8, 9, 5]\n"
          ]
        }
      ],
      "source": [
        "#Why do I have to convert it back to a list to get the right ans?\n",
        "def unique_list(l):\n",
        "  print(list(set(l)))\n",
        "\n",
        "unique_list([5,5,9,8])"
      ]
    },
    {
      "cell_type": "markdown",
      "id": "278f619d",
      "metadata": {
        "id": "278f619d"
      },
      "source": [
        "34. Write a Python program to merge two lists."
      ]
    },
    {
      "cell_type": "code",
      "execution_count": null,
      "id": "7cd4ebd5",
      "metadata": {
        "id": "7cd4ebd5",
        "colab": {
          "base_uri": "https://localhost:8080/"
        },
        "outputId": "0e343777-2311-499f-fe48-353a8e4de736"
      },
      "outputs": [
        {
          "output_type": "stream",
          "name": "stdout",
          "text": [
            "[1, 2, 3, 1, 2, 3]\n",
            "[1, 2, 3, 1, 2, 3]\n",
            "None\n"
          ]
        }
      ],
      "source": [
        "def merged_lists(l1, l2):\n",
        "  print(l1+l2)\n",
        "\n",
        "merged_lists([1,2,3], [1,2,3])\n",
        "\n",
        "def merged_lists(l1, l2):\n",
        "  l1.extend(l2)\n",
        "  print(l1)\n",
        "\n",
        "merged_lists([1,2,3], [1,2,3])\n",
        "\n",
        "######Why does this not work?\n",
        "def merged_lists(l1, l2):\n",
        "  new_list = l1.extend(l2)\n",
        "  print(new_list)\n",
        "\n",
        "merged_lists([1,2,3], [1,2,3])"
      ]
    },
    {
      "cell_type": "markdown",
      "id": "626557f9",
      "metadata": {
        "id": "626557f9"
      },
      "source": [
        "35. Write a Python program to find the second largest number in a list."
      ]
    },
    {
      "cell_type": "code",
      "execution_count": null,
      "id": "b6e8c5ce",
      "metadata": {
        "id": "b6e8c5ce",
        "colab": {
          "base_uri": "https://localhost:8080/"
        },
        "outputId": "5495df83-f286-4657-c168-cb2478e3dbf3"
      },
      "outputs": [
        {
          "output_type": "stream",
          "name": "stdout",
          "text": [
            "200\n"
          ]
        }
      ],
      "source": [
        "def second_largest(l):\n",
        "  ordered = sorted(l)\n",
        "  print(ordered[-2])\n",
        "\n",
        "second_largest([300,100,200])"
      ]
    },
    {
      "cell_type": "markdown",
      "id": "879eefd9",
      "metadata": {
        "id": "879eefd9"
      },
      "source": [
        "36. Write a Python program to find the second smallest number in a list."
      ]
    },
    {
      "cell_type": "code",
      "execution_count": null,
      "id": "5ebf0dcd",
      "metadata": {
        "id": "5ebf0dcd",
        "colab": {
          "base_uri": "https://localhost:8080/"
        },
        "outputId": "e3d38936-64c6-480c-b5df-0cbdcc0f84f1"
      },
      "outputs": [
        {
          "output_type": "stream",
          "name": "stdout",
          "text": [
            "900\n"
          ]
        }
      ],
      "source": [
        "def second_largest(l):\n",
        "  ordered = sorted(l, reverse = True)\n",
        "  print(ordered[1])\n",
        "\n",
        "second_largest([800,10000,900])"
      ]
    },
    {
      "cell_type": "markdown",
      "id": "20e865f2",
      "metadata": {
        "id": "20e865f2"
      },
      "source": [
        "37. Write a Python program to find the sum of elements in a list."
      ]
    },
    {
      "cell_type": "code",
      "execution_count": null,
      "id": "5ffe9813",
      "metadata": {
        "id": "5ffe9813",
        "colab": {
          "base_uri": "https://localhost:8080/"
        },
        "outputId": "f8bb0bda-a4c0-448f-88e1-4aba58ffd462"
      },
      "outputs": [
        {
          "output_type": "stream",
          "name": "stdout",
          "text": [
            "2000\n"
          ]
        }
      ],
      "source": [
        "def sum_list(l):\n",
        "  print(sum(l))\n",
        "\n",
        "sum_list([500,1000,500])"
      ]
    },
    {
      "cell_type": "markdown",
      "id": "2a7fb75a",
      "metadata": {
        "id": "2a7fb75a"
      },
      "source": [
        "38. Write a Python program to find the product of elements in a list."
      ]
    },
    {
      "cell_type": "code",
      "execution_count": null,
      "id": "92ee7fcb",
      "metadata": {
        "id": "92ee7fcb",
        "colab": {
          "base_uri": "https://localhost:8080/"
        },
        "outputId": "bd9ec8e8-0c2b-4019-a082-b535be16bb6d"
      },
      "outputs": [
        {
          "output_type": "stream",
          "name": "stdout",
          "text": [
            "10000\n"
          ]
        }
      ],
      "source": [
        "import math\n",
        "def prod_list(l):\n",
        "  print(math.prod(l))\n",
        "\n",
        "prod_list([100,10,10])"
      ]
    },
    {
      "cell_type": "markdown",
      "id": "65e48be7",
      "metadata": {
        "id": "65e48be7"
      },
      "source": [
        "39. Write a Python program to find the intersection of two lists."
      ]
    },
    {
      "cell_type": "code",
      "execution_count": null,
      "id": "17c26d77",
      "metadata": {
        "id": "17c26d77",
        "colab": {
          "base_uri": "https://localhost:8080/"
        },
        "outputId": "cd11b628-9238-4009-b19a-b4bcf90a4d28"
      },
      "outputs": [
        {
          "output_type": "stream",
          "name": "stdout",
          "text": [
            "{3}\n"
          ]
        }
      ],
      "source": [
        "def inter_lists(l1, l2):\n",
        "  intersection = set(l1) & set(l2)\n",
        "  print(intersection)\n",
        "\n",
        "inter_lists([1,2,3], [3,4,5])"
      ]
    },
    {
      "cell_type": "markdown",
      "id": "430447a5",
      "metadata": {
        "id": "430447a5"
      },
      "source": [
        "40. Write a Python program to find the union of two lists."
      ]
    },
    {
      "cell_type": "code",
      "execution_count": null,
      "id": "3e11cb6a",
      "metadata": {
        "id": "3e11cb6a",
        "colab": {
          "base_uri": "https://localhost:8080/"
        },
        "outputId": "4f1e0089-15e4-4823-e126-a119ba00ae54"
      },
      "outputs": [
        {
          "output_type": "stream",
          "name": "stdout",
          "text": [
            "{1, 2, 3, 4, 5}\n"
          ]
        }
      ],
      "source": [
        "def union_lists(l1, l2):\n",
        "  union = set(l1) | set(l2)\n",
        "  print(union)\n",
        "\n",
        "union_lists([1,2,3], [3,4,5])"
      ]
    },
    {
      "cell_type": "markdown",
      "id": "fd104f89",
      "metadata": {
        "id": "fd104f89"
      },
      "source": [
        "41. Write a Python program to find the difference of two lists."
      ]
    },
    {
      "cell_type": "code",
      "execution_count": null,
      "id": "10ce275c",
      "metadata": {
        "id": "10ce275c",
        "colab": {
          "base_uri": "https://localhost:8080/"
        },
        "outputId": "19b88f92-c053-4eba-c483-b61dc3c16151"
      },
      "outputs": [
        {
          "output_type": "stream",
          "name": "stdout",
          "text": [
            "{1, 2}\n",
            "{4, 5}\n"
          ]
        }
      ],
      "source": [
        "def diff_lists(l1, l2):\n",
        "  difference1 = set(l1) - set(l2)\n",
        "  difference2 = set(l2) - set(l1)\n",
        "  print(difference1)\n",
        "  print(difference2)\n",
        "\n",
        "diff_lists([1,2,3], [3,4,5])"
      ]
    },
    {
      "cell_type": "markdown",
      "id": "cc4a2ccc",
      "metadata": {
        "id": "cc4a2ccc"
      },
      "source": [
        "42. Write a Python program to find the symmetric difference of two lists."
      ]
    },
    {
      "cell_type": "code",
      "execution_count": null,
      "id": "599bf1d6",
      "metadata": {
        "id": "599bf1d6",
        "colab": {
          "base_uri": "https://localhost:8080/"
        },
        "outputId": "65443959-d1ed-42cc-cc91-7c7cb8b5cbb5"
      },
      "outputs": [
        {
          "output_type": "stream",
          "name": "stdout",
          "text": [
            "{1, 2, 4, 5}\n"
          ]
        }
      ],
      "source": [
        "def symmdiff_lists(l1,l2):\n",
        "  symmdiff = set(l1) ^ set(l2)\n",
        "  print(symmdiff)\n",
        "\n",
        "symmdiff_lists([1,2,3], [3,4,5])"
      ]
    },
    {
      "cell_type": "markdown",
      "id": "65f2bf9b",
      "metadata": {
        "id": "65f2bf9b"
      },
      "source": [
        "43. Write a Python program to find the index of an element in a list."
      ]
    },
    {
      "cell_type": "code",
      "execution_count": null,
      "id": "9bc39374",
      "metadata": {
        "id": "9bc39374",
        "colab": {
          "base_uri": "https://localhost:8080/"
        },
        "outputId": "ecd7e4dc-9883-4ea3-d57e-8d9b2e0e9f09"
      },
      "outputs": [
        {
          "output_type": "stream",
          "name": "stdout",
          "text": [
            "2\n"
          ]
        }
      ],
      "source": [
        "def index_list(l, n):\n",
        "  print(l.index(n))\n",
        "\n",
        "index_list([1,2,3,4,5], 3)\n"
      ]
    },
    {
      "cell_type": "markdown",
      "id": "b665186c",
      "metadata": {
        "id": "b665186c"
      },
      "source": [
        "44. Write a Python program to find the frequency of each element in a list."
      ]
    },
    {
      "cell_type": "code",
      "execution_count": null,
      "id": "e51669b1",
      "metadata": {
        "id": "e51669b1"
      },
      "outputs": [],
      "source": [
        "####"
      ]
    },
    {
      "cell_type": "markdown",
      "id": "8228f50c",
      "metadata": {
        "id": "8228f50c"
      },
      "source": [
        "45. Write a Python program to check if a list is empty or not."
      ]
    },
    {
      "cell_type": "code",
      "execution_count": null,
      "id": "c786a118",
      "metadata": {
        "id": "c786a118",
        "colab": {
          "base_uri": "https://localhost:8080/"
        },
        "outputId": "a0fc9188-e0d7-4939-ed0a-d51256ebde39"
      },
      "outputs": [
        {
          "output_type": "stream",
          "name": "stdout",
          "text": [
            "The list is not empty.\n",
            "The list is empty.\n"
          ]
        }
      ],
      "source": [
        "def empty_not(l):\n",
        "  if len(l) == 0:\n",
        "    print(\"The list is empty.\")\n",
        "  else:\n",
        "    print(\"The list is not empty.\")\n",
        "\n",
        "empty_not([1,2,3])\n",
        "empty_not([])"
      ]
    },
    {
      "cell_type": "markdown",
      "id": "0cd6004d",
      "metadata": {
        "id": "0cd6004d"
      },
      "source": [
        "46. Write a Python program to flatten a nested list."
      ]
    },
    {
      "cell_type": "code",
      "execution_count": null,
      "id": "8f75d3a5",
      "metadata": {
        "id": "8f75d3a5"
      },
      "outputs": [],
      "source": [
        "########"
      ]
    },
    {
      "cell_type": "markdown",
      "id": "dae03af9",
      "metadata": {
        "id": "dae03af9"
      },
      "source": [
        "47. Write a Python program to find the length of a list."
      ]
    },
    {
      "cell_type": "code",
      "execution_count": null,
      "id": "885e7120",
      "metadata": {
        "id": "885e7120",
        "colab": {
          "base_uri": "https://localhost:8080/"
        },
        "outputId": "e0f60c34-d76e-4ee7-9d19-0e590924cb74"
      },
      "outputs": [
        {
          "output_type": "stream",
          "name": "stdout",
          "text": [
            "4\n"
          ]
        }
      ],
      "source": [
        "def len_list(l):\n",
        "  print(len(l))\n",
        "\n",
        "len_list([1,2,3,4])"
      ]
    },
    {
      "cell_type": "markdown",
      "id": "03cc8634",
      "metadata": {
        "id": "03cc8634"
      },
      "source": [
        "48. Write a Python program to find the maximum and minimum element in a list."
      ]
    },
    {
      "cell_type": "code",
      "execution_count": null,
      "id": "5175b84c",
      "metadata": {
        "id": "5175b84c",
        "colab": {
          "base_uri": "https://localhost:8080/"
        },
        "outputId": "d9800bd0-758e-41f8-bac3-6c7228e3561b"
      },
      "outputs": [
        {
          "output_type": "stream",
          "name": "stdout",
          "text": [
            "2529\n",
            "1\n"
          ]
        }
      ],
      "source": [
        "def max_l(l):\n",
        "  print(max(l))\n",
        "\n",
        "max_l([233,354,2492,2529,1])\n",
        "\n",
        "def min_l(l):\n",
        "  print(min(l))\n",
        "\n",
        "min_l([233,354,2492,2529,1])"
      ]
    },
    {
      "cell_type": "markdown",
      "id": "6bb7374a",
      "metadata": {
        "id": "6bb7374a"
      },
      "source": [
        "49. Write a Python program to find the cumulative sum of a list."
      ]
    },
    {
      "cell_type": "code",
      "execution_count": null,
      "id": "2f6ad36e",
      "metadata": {
        "id": "2f6ad36e",
        "colab": {
          "base_uri": "https://localhost:8080/"
        },
        "outputId": "e3bb9b5d-1c8e-4a66-daed-04b9c89ecc96"
      },
      "outputs": [
        {
          "output_type": "execute_result",
          "data": {
            "text/plain": [
              "300"
            ]
          },
          "metadata": {},
          "execution_count": 8
        }
      ],
      "source": [
        "def sum_l(l):\n",
        "  print(sum(l))\n",
        "\n",
        "sum([100,100,100])"
      ]
    },
    {
      "cell_type": "markdown",
      "id": "222b6a8a",
      "metadata": {
        "id": "222b6a8a"
      },
      "source": [
        "50. Write a Python program to create a matrix using nested lists."
      ]
    },
    {
      "cell_type": "code",
      "execution_count": null,
      "id": "b53de014",
      "metadata": {
        "id": "b53de014",
        "colab": {
          "base_uri": "https://localhost:8080/"
        },
        "outputId": "a9728e5f-9437-424b-d7ca-1a057d1b2b80"
      },
      "outputs": [
        {
          "output_type": "stream",
          "name": "stdout",
          "text": [
            "[[1 2 3]\n",
            " [1 2 3]\n",
            " [1 2 3]]\n"
          ]
        }
      ],
      "source": [
        "##########Is this correct?\n",
        "import numpy as np\n",
        "\n",
        "def matrix_l(l1,l2,l3):\n",
        "  matrix = np.array([l1,l2,l3])\n",
        "  print(matrix)\n",
        "\n",
        "matrix_l([1,2,3],[1,2,3],[1,2,3])"
      ]
    },
    {
      "cell_type": "markdown",
      "id": "e0657585",
      "metadata": {
        "id": "e0657585"
      },
      "source": [
        "51. Write a Python program to perform matrix addition."
      ]
    },
    {
      "cell_type": "code",
      "execution_count": null,
      "id": "964a1f8b",
      "metadata": {
        "id": "964a1f8b",
        "colab": {
          "base_uri": "https://localhost:8080/",
          "height": 333
        },
        "outputId": "378390d8-8d52-4786-8ab0-67d8a6831212"
      },
      "outputs": [
        {
          "output_type": "error",
          "ename": "TypeError",
          "evalue": "only integer scalar arrays can be converted to a scalar index",
          "traceback": [
            "\u001b[0;31m---------------------------------------------------------------------------\u001b[0m",
            "\u001b[0;31mTypeError\u001b[0m                                 Traceback (most recent call last)",
            "\u001b[0;32m<ipython-input-10-c27de4eb09eb>\u001b[0m in \u001b[0;36m<cell line: 7>\u001b[0;34m()\u001b[0m\n\u001b[1;32m      5\u001b[0m   \u001b[0mprint\u001b[0m\u001b[0;34m(\u001b[0m\u001b[0madd\u001b[0m\u001b[0;34m)\u001b[0m\u001b[0;34m\u001b[0m\u001b[0;34m\u001b[0m\u001b[0m\n\u001b[1;32m      6\u001b[0m \u001b[0;34m\u001b[0m\u001b[0m\n\u001b[0;32m----> 7\u001b[0;31m \u001b[0mmatrix_add\u001b[0m\u001b[0;34m(\u001b[0m\u001b[0;34m[\u001b[0m\u001b[0;34m[\u001b[0m\u001b[0;36m1\u001b[0m\u001b[0;34m,\u001b[0m\u001b[0;36m2\u001b[0m\u001b[0;34m,\u001b[0m\u001b[0;36m3\u001b[0m\u001b[0;34m]\u001b[0m\u001b[0;34m,\u001b[0m\u001b[0;34m[\u001b[0m\u001b[0;36m1\u001b[0m\u001b[0;34m,\u001b[0m\u001b[0;36m2\u001b[0m\u001b[0;34m,\u001b[0m\u001b[0;36m3\u001b[0m\u001b[0;34m]\u001b[0m\u001b[0;34m,\u001b[0m\u001b[0;34m[\u001b[0m\u001b[0;36m1\u001b[0m\u001b[0;34m,\u001b[0m\u001b[0;36m2\u001b[0m\u001b[0;34m,\u001b[0m\u001b[0;36m3\u001b[0m\u001b[0;34m]\u001b[0m\u001b[0;34m]\u001b[0m\u001b[0;34m,\u001b[0m\u001b[0;34m[\u001b[0m\u001b[0;34m[\u001b[0m\u001b[0;36m1\u001b[0m\u001b[0;34m,\u001b[0m\u001b[0;36m2\u001b[0m\u001b[0;34m,\u001b[0m\u001b[0;36m3\u001b[0m\u001b[0;34m]\u001b[0m\u001b[0;34m,\u001b[0m\u001b[0;34m[\u001b[0m\u001b[0;36m1\u001b[0m\u001b[0;34m,\u001b[0m\u001b[0;36m2\u001b[0m\u001b[0;34m,\u001b[0m\u001b[0;36m3\u001b[0m\u001b[0;34m]\u001b[0m\u001b[0;34m,\u001b[0m\u001b[0;34m[\u001b[0m\u001b[0;36m1\u001b[0m\u001b[0;34m,\u001b[0m\u001b[0;36m2\u001b[0m\u001b[0;34m,\u001b[0m\u001b[0;36m3\u001b[0m\u001b[0;34m]\u001b[0m\u001b[0;34m]\u001b[0m\u001b[0;34m)\u001b[0m\u001b[0;34m\u001b[0m\u001b[0;34m\u001b[0m\u001b[0m\n\u001b[0m",
            "\u001b[0;32m<ipython-input-10-c27de4eb09eb>\u001b[0m in \u001b[0;36mmatrix_add\u001b[0;34m(m1, m2)\u001b[0m\n\u001b[1;32m      2\u001b[0m   \u001b[0mm1\u001b[0m \u001b[0;34m=\u001b[0m \u001b[0mnp\u001b[0m\u001b[0;34m.\u001b[0m\u001b[0marray\u001b[0m\u001b[0;34m(\u001b[0m\u001b[0;34m[\u001b[0m\u001b[0mm1\u001b[0m\u001b[0;34m]\u001b[0m\u001b[0;34m)\u001b[0m\u001b[0;34m\u001b[0m\u001b[0;34m\u001b[0m\u001b[0m\n\u001b[1;32m      3\u001b[0m   \u001b[0mm2\u001b[0m \u001b[0;34m=\u001b[0m \u001b[0mnp\u001b[0m\u001b[0;34m.\u001b[0m\u001b[0marray\u001b[0m\u001b[0;34m(\u001b[0m\u001b[0;34m[\u001b[0m\u001b[0mm2\u001b[0m\u001b[0;34m]\u001b[0m\u001b[0;34m)\u001b[0m\u001b[0;34m\u001b[0m\u001b[0;34m\u001b[0m\u001b[0m\n\u001b[0;32m----> 4\u001b[0;31m   \u001b[0madd\u001b[0m \u001b[0;34m=\u001b[0m \u001b[0mnp\u001b[0m\u001b[0;34m.\u001b[0m\u001b[0msum\u001b[0m\u001b[0;34m(\u001b[0m\u001b[0mm1\u001b[0m\u001b[0;34m,\u001b[0m\u001b[0mm2\u001b[0m\u001b[0;34m)\u001b[0m\u001b[0;34m\u001b[0m\u001b[0;34m\u001b[0m\u001b[0m\n\u001b[0m\u001b[1;32m      5\u001b[0m   \u001b[0mprint\u001b[0m\u001b[0;34m(\u001b[0m\u001b[0madd\u001b[0m\u001b[0;34m)\u001b[0m\u001b[0;34m\u001b[0m\u001b[0;34m\u001b[0m\u001b[0m\n\u001b[1;32m      6\u001b[0m \u001b[0;34m\u001b[0m\u001b[0m\n",
            "\u001b[0;32m/usr/local/lib/python3.10/dist-packages/numpy/core/fromnumeric.py\u001b[0m in \u001b[0;36msum\u001b[0;34m(a, axis, dtype, out, keepdims, initial, where)\u001b[0m\n\u001b[1;32m   2311\u001b[0m         \u001b[0;32mreturn\u001b[0m \u001b[0mres\u001b[0m\u001b[0;34m\u001b[0m\u001b[0;34m\u001b[0m\u001b[0m\n\u001b[1;32m   2312\u001b[0m \u001b[0;34m\u001b[0m\u001b[0m\n\u001b[0;32m-> 2313\u001b[0;31m     return _wrapreduction(a, np.add, 'sum', axis, dtype, out, keepdims=keepdims,\n\u001b[0m\u001b[1;32m   2314\u001b[0m                           initial=initial, where=where)\n\u001b[1;32m   2315\u001b[0m \u001b[0;34m\u001b[0m\u001b[0m\n",
            "\u001b[0;32m/usr/local/lib/python3.10/dist-packages/numpy/core/fromnumeric.py\u001b[0m in \u001b[0;36m_wrapreduction\u001b[0;34m(obj, ufunc, method, axis, dtype, out, **kwargs)\u001b[0m\n\u001b[1;32m     86\u001b[0m                 \u001b[0;32mreturn\u001b[0m \u001b[0mreduction\u001b[0m\u001b[0;34m(\u001b[0m\u001b[0maxis\u001b[0m\u001b[0;34m=\u001b[0m\u001b[0maxis\u001b[0m\u001b[0;34m,\u001b[0m \u001b[0mout\u001b[0m\u001b[0;34m=\u001b[0m\u001b[0mout\u001b[0m\u001b[0;34m,\u001b[0m \u001b[0;34m**\u001b[0m\u001b[0mpasskwargs\u001b[0m\u001b[0;34m)\u001b[0m\u001b[0;34m\u001b[0m\u001b[0;34m\u001b[0m\u001b[0m\n\u001b[1;32m     87\u001b[0m \u001b[0;34m\u001b[0m\u001b[0m\n\u001b[0;32m---> 88\u001b[0;31m     \u001b[0;32mreturn\u001b[0m \u001b[0mufunc\u001b[0m\u001b[0;34m.\u001b[0m\u001b[0mreduce\u001b[0m\u001b[0;34m(\u001b[0m\u001b[0mobj\u001b[0m\u001b[0;34m,\u001b[0m \u001b[0maxis\u001b[0m\u001b[0;34m,\u001b[0m \u001b[0mdtype\u001b[0m\u001b[0;34m,\u001b[0m \u001b[0mout\u001b[0m\u001b[0;34m,\u001b[0m \u001b[0;34m**\u001b[0m\u001b[0mpasskwargs\u001b[0m\u001b[0;34m)\u001b[0m\u001b[0;34m\u001b[0m\u001b[0;34m\u001b[0m\u001b[0m\n\u001b[0m\u001b[1;32m     89\u001b[0m \u001b[0;34m\u001b[0m\u001b[0m\n\u001b[1;32m     90\u001b[0m \u001b[0;34m\u001b[0m\u001b[0m\n",
            "\u001b[0;31mTypeError\u001b[0m: only integer scalar arrays can be converted to a scalar index"
          ]
        }
      ],
      "source": [
        "def matrix_add(m1,m2):\n",
        "  m1 = np.array([m1])\n",
        "  m2 = np.array([m2])\n",
        "  add = np.sum(m1,m2)\n",
        "  print(add)\n",
        "\n",
        "matrix_add([[1,2,3],[1,2,3],[1,2,3]],[[1,2,3],[1,2,3],[1,2,3]])"
      ]
    },
    {
      "cell_type": "markdown",
      "id": "d266a735",
      "metadata": {
        "id": "d266a735"
      },
      "source": [
        "52. Write a Python program to perform matrix subtraction."
      ]
    },
    {
      "cell_type": "code",
      "execution_count": null,
      "id": "efe84403",
      "metadata": {
        "id": "efe84403"
      },
      "outputs": [],
      "source": [
        "######"
      ]
    },
    {
      "cell_type": "markdown",
      "id": "b5b6a2d1",
      "metadata": {
        "id": "b5b6a2d1"
      },
      "source": [
        "53. Write a Python program to perform matrix multiplication."
      ]
    },
    {
      "cell_type": "code",
      "execution_count": null,
      "id": "8aca64f8",
      "metadata": {
        "id": "8aca64f8"
      },
      "outputs": [],
      "source": [
        "######"
      ]
    },
    {
      "cell_type": "markdown",
      "id": "f2de0786",
      "metadata": {
        "id": "f2de0786"
      },
      "source": [
        "54. Write a Python program to find the transpose of a matrix."
      ]
    },
    {
      "cell_type": "code",
      "execution_count": null,
      "id": "91901b6a",
      "metadata": {
        "id": "91901b6a"
      },
      "outputs": [],
      "source": [
        "######"
      ]
    },
    {
      "cell_type": "markdown",
      "id": "9d369bc4",
      "metadata": {
        "id": "9d369bc4"
      },
      "source": [
        "55. Write a Python program to find the inverse of a matrix."
      ]
    },
    {
      "cell_type": "code",
      "execution_count": null,
      "id": "9be41568",
      "metadata": {
        "id": "9be41568"
      },
      "outputs": [],
      "source": [
        "#####"
      ]
    },
    {
      "cell_type": "markdown",
      "id": "071fef7e",
      "metadata": {
        "id": "071fef7e"
      },
      "source": [
        "56. Write a Python program to implement bubble sort algorithm."
      ]
    },
    {
      "cell_type": "code",
      "execution_count": null,
      "id": "ffa789c6",
      "metadata": {
        "id": "ffa789c6",
        "colab": {
          "base_uri": "https://localhost:8080/"
        },
        "outputId": "04c82bb4-8aa6-40f4-daa2-a7ec93a29dfe"
      },
      "outputs": [
        {
          "output_type": "stream",
          "name": "stdout",
          "text": [
            "[2, 5, 5, 7, 8]\n"
          ]
        }
      ],
      "source": [
        "def bubble_sort(l):\n",
        "  print(sorted(l))\n",
        "\n",
        "bubble_sort([5,8,2,5,7])"
      ]
    },
    {
      "cell_type": "code",
      "source": [
        "def bubble_sort2(l):\n",
        "  n = len(l)\n",
        "  for i in range(n):\n",
        "    #print(i)\n",
        "    for j in range(n-i-1):\n",
        "      #print(j)\n",
        "      if l[j] > l[j+1]:\n",
        "        l[j], l[j+1] = l[j+1] , l[j]\n",
        "  return l\n",
        "\n",
        "bubble_sort2([3,5,1,2])"
      ],
      "metadata": {
        "colab": {
          "base_uri": "https://localhost:8080/"
        },
        "id": "W5XQoRFv6gT3",
        "outputId": "341552fa-e538-4f53-f573-81cb32273edf"
      },
      "id": "W5XQoRFv6gT3",
      "execution_count": null,
      "outputs": [
        {
          "output_type": "execute_result",
          "data": {
            "text/plain": [
              "[1, 2, 3, 5]"
            ]
          },
          "metadata": {},
          "execution_count": 26
        }
      ]
    },
    {
      "cell_type": "markdown",
      "id": "fce334e9",
      "metadata": {
        "id": "fce334e9"
      },
      "source": [
        "57. Write a Python program to implement insertion sort algorithm."
      ]
    },
    {
      "cell_type": "code",
      "execution_count": null,
      "id": "9663f58b",
      "metadata": {
        "id": "9663f58b"
      },
      "outputs": [],
      "source": []
    },
    {
      "cell_type": "markdown",
      "id": "03f36f18",
      "metadata": {
        "id": "03f36f18"
      },
      "source": [
        "58. Write a Python program to implement selection sort algorithm."
      ]
    },
    {
      "cell_type": "code",
      "execution_count": null,
      "id": "d47603b9",
      "metadata": {
        "id": "d47603b9"
      },
      "outputs": [],
      "source": []
    },
    {
      "cell_type": "markdown",
      "id": "8a9be1f2",
      "metadata": {
        "id": "8a9be1f2"
      },
      "source": [
        "59. Write a Python program to implement merge sort algorithm."
      ]
    },
    {
      "cell_type": "code",
      "execution_count": null,
      "id": "5408e3ad",
      "metadata": {
        "id": "5408e3ad"
      },
      "outputs": [],
      "source": []
    },
    {
      "cell_type": "markdown",
      "id": "49d25334",
      "metadata": {
        "id": "49d25334"
      },
      "source": [
        "60. Write a Python program to implement quick sort algorithm."
      ]
    },
    {
      "cell_type": "code",
      "execution_count": null,
      "id": "55ebea33",
      "metadata": {
        "id": "55ebea33"
      },
      "outputs": [],
      "source": []
    },
    {
      "cell_type": "markdown",
      "source": [
        "##*Advanced* Coding Questions (61-100)"
      ],
      "metadata": {
        "id": "X_8f45JFo-4o"
      },
      "id": "X_8f45JFo-4o"
    },
    {
      "cell_type": "markdown",
      "id": "401c758d",
      "metadata": {
        "id": "401c758d"
      },
      "source": [
        "61. Write a Python program to implement linear search algorithm."
      ]
    },
    {
      "cell_type": "code",
      "execution_count": null,
      "id": "70eb96e2",
      "metadata": {
        "id": "70eb96e2"
      },
      "outputs": [],
      "source": []
    },
    {
      "cell_type": "markdown",
      "id": "9d72a96a",
      "metadata": {
        "id": "9d72a96a"
      },
      "source": [
        "62. Write a Python program to implement binary search algorithm."
      ]
    },
    {
      "cell_type": "code",
      "execution_count": null,
      "id": "d2959e6e",
      "metadata": {
        "id": "d2959e6e"
      },
      "outputs": [],
      "source": []
    },
    {
      "cell_type": "markdown",
      "id": "1d7c81ad",
      "metadata": {
        "id": "1d7c81ad"
      },
      "source": [
        "63. Write a Python program to implement depth-first search algorithm."
      ]
    },
    {
      "cell_type": "code",
      "execution_count": null,
      "id": "27706819",
      "metadata": {
        "id": "27706819"
      },
      "outputs": [],
      "source": []
    },
    {
      "cell_type": "markdown",
      "id": "9be2d764",
      "metadata": {
        "id": "9be2d764"
      },
      "source": [
        "64. Write a Python program to implement breadth-first search algorithm."
      ]
    },
    {
      "cell_type": "code",
      "execution_count": null,
      "id": "8aa98b3d",
      "metadata": {
        "id": "8aa98b3d"
      },
      "outputs": [],
      "source": []
    },
    {
      "cell_type": "markdown",
      "id": "8fe03da3",
      "metadata": {
        "id": "8fe03da3"
      },
      "source": [
        "65. Write a Python program to find the shortest path in a graph using Dijkstra's algorithm."
      ]
    },
    {
      "cell_type": "code",
      "execution_count": null,
      "id": "d58d5256",
      "metadata": {
        "id": "d58d5256"
      },
      "outputs": [],
      "source": []
    },
    {
      "cell_type": "markdown",
      "id": "b2c7df13",
      "metadata": {
        "id": "b2c7df13"
      },
      "source": [
        "66. Write a Python program to find the minimum spanning tree using Kruskal's algorithm."
      ]
    },
    {
      "cell_type": "code",
      "execution_count": null,
      "id": "5a739278",
      "metadata": {
        "id": "5a739278"
      },
      "outputs": [],
      "source": []
    },
    {
      "cell_type": "markdown",
      "id": "883df590",
      "metadata": {
        "id": "883df590"
      },
      "source": [
        "67. Write a Python program to find the minimum spanning tree using Prim's algorithm."
      ]
    },
    {
      "cell_type": "code",
      "execution_count": null,
      "id": "1776ca96",
      "metadata": {
        "id": "1776ca96"
      },
      "outputs": [],
      "source": []
    },
    {
      "cell_type": "markdown",
      "id": "cb7bcf26",
      "metadata": {
        "id": "cb7bcf26"
      },
      "source": [
        "68. Write a Python program to find the maximum flow in a network using Ford-Fulkerson algorithm."
      ]
    },
    {
      "cell_type": "code",
      "execution_count": null,
      "id": "993e87db",
      "metadata": {
        "id": "993e87db"
      },
      "outputs": [],
      "source": []
    },
    {
      "cell_type": "markdown",
      "id": "445ad7fe",
      "metadata": {
        "id": "445ad7fe"
      },
      "source": [
        "69. Write a Python program to find the longest common subsequence in two sequences."
      ]
    },
    {
      "cell_type": "code",
      "execution_count": null,
      "id": "4ba2da8e",
      "metadata": {
        "id": "4ba2da8e"
      },
      "outputs": [],
      "source": []
    },
    {
      "cell_type": "markdown",
      "id": "75054155",
      "metadata": {
        "id": "75054155"
      },
      "source": [
        "70. Write a Python program to find the longest increasing subsequence in a sequence."
      ]
    },
    {
      "cell_type": "code",
      "execution_count": null,
      "id": "8a2fbdf6",
      "metadata": {
        "id": "8a2fbdf6"
      },
      "outputs": [],
      "source": []
    },
    {
      "cell_type": "markdown",
      "id": "80dc7dc4",
      "metadata": {
        "id": "80dc7dc4"
      },
      "source": [
        "71. Write a Python program to solve the knapsack problem using dynamic programming."
      ]
    },
    {
      "cell_type": "code",
      "execution_count": null,
      "id": "a3ad5e24",
      "metadata": {
        "id": "a3ad5e24"
      },
      "outputs": [],
      "source": []
    },
    {
      "cell_type": "markdown",
      "id": "71526319",
      "metadata": {
        "id": "71526319"
      },
      "source": [
        "72. Write a Python program to solve the traveling salesman problem using dynamic programming."
      ]
    },
    {
      "cell_type": "code",
      "execution_count": null,
      "id": "8efdb175",
      "metadata": {
        "id": "8efdb175"
      },
      "outputs": [],
      "source": []
    },
    {
      "cell_type": "markdown",
      "id": "6ddc5558",
      "metadata": {
        "id": "6ddc5558"
      },
      "source": [
        "73. Write a Python program to find the maximum sum subarray using Kadane's algorithm."
      ]
    },
    {
      "cell_type": "code",
      "execution_count": null,
      "id": "109d5ad3",
      "metadata": {
        "id": "109d5ad3"
      },
      "outputs": [],
      "source": []
    },
    {
      "cell_type": "markdown",
      "id": "0c9fc456",
      "metadata": {
        "id": "0c9fc456"
      },
      "source": [
        "74. Write a Python program to find the median of two sorted arrays."
      ]
    },
    {
      "cell_type": "code",
      "execution_count": null,
      "id": "93bd7672",
      "metadata": {
        "id": "93bd7672"
      },
      "outputs": [],
      "source": []
    },
    {
      "cell_type": "markdown",
      "id": "f24bc58e",
      "metadata": {
        "id": "f24bc58e"
      },
      "source": [
        "75. Write a Python program to find the k-th smallest element in an array."
      ]
    },
    {
      "cell_type": "code",
      "execution_count": null,
      "id": "3b03bafa",
      "metadata": {
        "id": "3b03bafa"
      },
      "outputs": [],
      "source": []
    },
    {
      "cell_type": "markdown",
      "id": "f2d17b60",
      "metadata": {
        "id": "f2d17b60"
      },
      "source": [
        "76. Write a Python program to find the k-th largest element in an array."
      ]
    },
    {
      "cell_type": "code",
      "execution_count": null,
      "id": "3b58c085",
      "metadata": {
        "id": "3b58c085"
      },
      "outputs": [],
      "source": []
    },
    {
      "cell_type": "markdown",
      "id": "34072df5",
      "metadata": {
        "id": "34072df5"
      },
      "source": [
        "77. Write a Python program to implement the heap sort algorithm."
      ]
    },
    {
      "cell_type": "code",
      "execution_count": null,
      "id": "53591396",
      "metadata": {
        "id": "53591396"
      },
      "outputs": [],
      "source": []
    },
    {
      "cell_type": "markdown",
      "id": "d9e31617",
      "metadata": {
        "id": "d9e31617"
      },
      "source": [
        "78. Write a Python program to implement the radix sort algorithm."
      ]
    },
    {
      "cell_type": "code",
      "execution_count": null,
      "id": "03017849",
      "metadata": {
        "id": "03017849"
      },
      "outputs": [],
      "source": []
    },
    {
      "cell_type": "markdown",
      "id": "8f3ca34f",
      "metadata": {
        "id": "8f3ca34f"
      },
      "source": [
        "79. Write a Python program to implement the bucket sort algorithm."
      ]
    },
    {
      "cell_type": "code",
      "execution_count": null,
      "id": "08ad8e73",
      "metadata": {
        "id": "08ad8e73"
      },
      "outputs": [],
      "source": []
    },
    {
      "cell_type": "markdown",
      "id": "4f3b61b9",
      "metadata": {
        "id": "4f3b61b9"
      },
      "source": [
        "80. Write a Python program to implement the counting sort algorithm."
      ]
    },
    {
      "cell_type": "code",
      "execution_count": null,
      "id": "4ce955d9",
      "metadata": {
        "id": "4ce955d9"
      },
      "outputs": [],
      "source": []
    },
    {
      "cell_type": "markdown",
      "id": "877d296e",
      "metadata": {
        "id": "877d296e"
      },
      "source": [
        "81. Write a Python program to find the longest palindromic substring in a string."
      ]
    },
    {
      "cell_type": "code",
      "execution_count": null,
      "id": "ce89343e",
      "metadata": {
        "id": "ce89343e"
      },
      "outputs": [],
      "source": []
    },
    {
      "cell_type": "markdown",
      "id": "2315d5cb",
      "metadata": {
        "id": "2315d5cb"
      },
      "source": [
        "82. Write a Python program to find the minimum edit distance between two strings."
      ]
    },
    {
      "cell_type": "code",
      "execution_count": null,
      "id": "5d6d404b",
      "metadata": {
        "id": "5d6d404b"
      },
      "outputs": [],
      "source": []
    },
    {
      "cell_type": "markdown",
      "id": "10328a0c",
      "metadata": {
        "id": "10328a0c"
      },
      "source": [
        "83. Write a Python program to find the maximum product subarray in an array."
      ]
    },
    {
      "cell_type": "code",
      "execution_count": null,
      "id": "7f4b46b5",
      "metadata": {
        "id": "7f4b46b5"
      },
      "outputs": [],
      "source": []
    },
    {
      "cell_type": "markdown",
      "id": "d0e87796",
      "metadata": {
        "id": "d0e87796"
      },
      "source": [
        "84. Write a Python program to find the number of islands in a 2D grid."
      ]
    },
    {
      "cell_type": "code",
      "execution_count": null,
      "id": "940f7fd4",
      "metadata": {
        "id": "940f7fd4"
      },
      "outputs": [],
      "source": []
    },
    {
      "cell_type": "markdown",
      "id": "6f41fc0a",
      "metadata": {
        "id": "6f41fc0a"
      },
      "source": [
        "85. Write a Python program to find the maximum rectangle area in a 2D grid."
      ]
    },
    {
      "cell_type": "code",
      "execution_count": null,
      "id": "daf4732d",
      "metadata": {
        "id": "daf4732d"
      },
      "outputs": [],
      "source": []
    },
    {
      "cell_type": "markdown",
      "id": "77cb7dca",
      "metadata": {
        "id": "77cb7dca"
      },
      "source": [
        "86. Write a Python program to find the largest square area in a 2D grid."
      ]
    },
    {
      "cell_type": "code",
      "execution_count": null,
      "id": "ca670d6d",
      "metadata": {
        "id": "ca670d6d"
      },
      "outputs": [],
      "source": []
    },
    {
      "cell_type": "markdown",
      "id": "39933501",
      "metadata": {
        "id": "39933501"
      },
      "source": [
        "87. Write a Python program to solve the N-Queens problem."
      ]
    },
    {
      "cell_type": "code",
      "execution_count": null,
      "id": "ddf6a499",
      "metadata": {
        "id": "ddf6a499"
      },
      "outputs": [],
      "source": []
    },
    {
      "cell_type": "markdown",
      "id": "6b02be92",
      "metadata": {
        "id": "6b02be92"
      },
      "source": [
        "88. Write a Python program to solve the Sudoku puzzle."
      ]
    },
    {
      "cell_type": "code",
      "execution_count": null,
      "id": "7875e67d",
      "metadata": {
        "id": "7875e67d"
      },
      "outputs": [],
      "source": []
    },
    {
      "cell_type": "markdown",
      "id": "5c8e1a78",
      "metadata": {
        "id": "5c8e1a78"
      },
      "source": [
        "89. Write a Python program to implement the A* search algorithm."
      ]
    },
    {
      "cell_type": "code",
      "execution_count": null,
      "id": "7bb0afd7",
      "metadata": {
        "id": "7bb0afd7"
      },
      "outputs": [],
      "source": []
    },
    {
      "cell_type": "markdown",
      "id": "492d9f05",
      "metadata": {
        "id": "492d9f05"
      },
      "source": [
        "90. Write a Python program to solve the 0/1 knapsack problem using backtracking."
      ]
    },
    {
      "cell_type": "code",
      "execution_count": null,
      "id": "f81c304b",
      "metadata": {
        "id": "f81c304b"
      },
      "outputs": [],
      "source": []
    },
    {
      "cell_type": "markdown",
      "id": "cd76f9ce",
      "metadata": {
        "id": "cd76f9ce"
      },
      "source": [
        "91. Write a Python program to solve the rat in a maze problem using backtracking."
      ]
    },
    {
      "cell_type": "code",
      "execution_count": null,
      "id": "78321338",
      "metadata": {
        "id": "78321338"
      },
      "outputs": [],
      "source": []
    },
    {
      "cell_type": "markdown",
      "id": "1620e426",
      "metadata": {
        "id": "1620e426"
      },
      "source": [
        "92. Write a Python program to solve the subset sum problem using backtracking."
      ]
    },
    {
      "cell_type": "code",
      "execution_count": null,
      "id": "24e509e4",
      "metadata": {
        "id": "24e509e4"
      },
      "outputs": [],
      "source": []
    },
    {
      "cell_type": "markdown",
      "id": "4ea6bf60",
      "metadata": {
        "id": "4ea6bf60"
      },
      "source": [
        "93. Write a Python program to implement the Floyd-Warshall algorithm."
      ]
    },
    {
      "cell_type": "code",
      "execution_count": null,
      "id": "c98cf58e",
      "metadata": {
        "id": "c98cf58e"
      },
      "outputs": [],
      "source": []
    },
    {
      "cell_type": "markdown",
      "id": "d25c4215",
      "metadata": {
        "id": "d25c4215"
      },
      "source": [
        "94. Write a Python program to implement the Bellman-Ford algorithm."
      ]
    },
    {
      "cell_type": "code",
      "execution_count": null,
      "id": "8938ba93",
      "metadata": {
        "id": "8938ba93"
      },
      "outputs": [],
      "source": []
    },
    {
      "cell_type": "markdown",
      "id": "82be40c8",
      "metadata": {
        "id": "82be40c8"
      },
      "source": [
        "95. Write a Python program to find the strongly connected components in a graph."
      ]
    },
    {
      "cell_type": "code",
      "execution_count": null,
      "id": "363b7337",
      "metadata": {
        "id": "363b7337"
      },
      "outputs": [],
      "source": []
    },
    {
      "cell_type": "markdown",
      "id": "7fc0595a",
      "metadata": {
        "id": "7fc0595a"
      },
      "source": [
        "96. Write a Python program to find the articulation points in a graph."
      ]
    },
    {
      "cell_type": "code",
      "execution_count": null,
      "id": "5c60243b",
      "metadata": {
        "id": "5c60243b"
      },
      "outputs": [],
      "source": []
    },
    {
      "cell_type": "markdown",
      "id": "be79f697",
      "metadata": {
        "id": "be79f697"
      },
      "source": [
        "97. Write a Python program to find the bridges in a graph."
      ]
    },
    {
      "cell_type": "code",
      "execution_count": null,
      "id": "54772a36",
      "metadata": {
        "id": "54772a36"
      },
      "outputs": [],
      "source": []
    },
    {
      "cell_type": "markdown",
      "id": "ab13b951",
      "metadata": {
        "id": "ab13b951"
      },
      "source": [
        "98. Write a Python program to find the Eulerian path in a graph."
      ]
    },
    {
      "cell_type": "code",
      "execution_count": null,
      "id": "833474df",
      "metadata": {
        "id": "833474df"
      },
      "outputs": [],
      "source": []
    },
    {
      "cell_type": "markdown",
      "id": "ff3aeb6b",
      "metadata": {
        "id": "ff3aeb6b"
      },
      "source": [
        "99. Write a Python program to find the Hamiltonian path in a graph."
      ]
    },
    {
      "cell_type": "code",
      "execution_count": null,
      "id": "24831f53",
      "metadata": {
        "id": "24831f53"
      },
      "outputs": [],
      "source": []
    },
    {
      "cell_type": "markdown",
      "id": "05528f97",
      "metadata": {
        "id": "05528f97"
      },
      "source": [
        "100. Write a Python program to find the topological order of a directed acyclic graph."
      ]
    },
    {
      "cell_type": "code",
      "execution_count": null,
      "id": "b3cf865d",
      "metadata": {
        "id": "b3cf865d"
      },
      "outputs": [],
      "source": []
    }
  ],
  "metadata": {
    "colab": {
      "provenance": [],
      "include_colab_link": true
    },
    "language_info": {
      "name": "python"
    },
    "kernelspec": {
      "name": "python3",
      "display_name": "Python 3"
    }
  },
  "nbformat": 4,
  "nbformat_minor": 5
}