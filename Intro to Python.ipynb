{
  "cells": [
    {
      "cell_type": "markdown",
      "metadata": {
        "id": "view-in-github",
        "colab_type": "text"
      },
      "source": [
        "<a href=\"https://colab.research.google.com/github/Bhatss/BT---Advanced-Python/blob/main/Intro%20to%20Python.ipynb\" target=\"_parent\"><img src=\"https://colab.research.google.com/assets/colab-badge.svg\" alt=\"Open In Colab\"/></a>"
      ]
    },
    {
      "cell_type": "code",
      "execution_count": null,
      "metadata": {
        "colab": {
          "base_uri": "https://localhost:8080/"
        },
        "id": "wiMh0GNkxnIH",
        "outputId": "fb0050b9-cc55-4a3d-88f5-8d91a904b99e"
      },
      "outputs": [
        {
          "name": "stdout",
          "output_type": "stream",
          "text": [
            "Hello World\n"
          ]
        }
      ],
      "source": [
        "#Command + Return = Runs\n",
        "#Command + / = Multiple line comment\n",
        "#Shift + Return = New Cell\n",
        "#Control + m + b = new cell below\n",
        "#Control + m + a = new cell above"
      ]
    },
    {
      "cell_type": "code",
      "execution_count": null,
      "metadata": {
        "colab": {
          "base_uri": "https://localhost:8080/"
        },
        "id": "14NAW_pcyboj",
        "outputId": "fb7a21b4-bb60-43c8-9615-4921cbe5277a"
      },
      "outputs": [
        {
          "name": "stdout",
          "output_type": "stream",
          "text": [
            "Please enter a number: 1\n",
            "Enter an operator: +\n",
            "Please enter a second number: 1\n",
            "2.0\n"
          ]
        }
      ],
      "source": [
        "num1 = float(input(\"Please enter a number: \"))\n",
        "operator = input(\"Enter an operator: \")\n",
        "num2 = float(input(\"Please enter a second number: \"))\n",
        "\n",
        "if operator == \"+\":\n",
        "  print(num1+num2)\n",
        "elif operator == \"-\":\n",
        "  print(num1-num2)\n",
        "elif operator == \"*\":\n",
        "  print(num1*num2)\n",
        "elif operator == \"/\":\n",
        "  print(num1/num2)\n",
        "else:\n",
        "  print(\"Please choose between + - / *\")"
      ]
    },
    {
      "cell_type": "code",
      "execution_count": null,
      "metadata": {
        "colab": {
          "base_uri": "https://localhost:8080/"
        },
        "id": "on_wt1uC3dN7",
        "outputId": "8603b07d-6a61-42ea-b571-9321d2610c9e"
      },
      "outputs": [
        {
          "name": "stdout",
          "output_type": "stream",
          "text": [
            "Guess the word: cat\n",
            "Guess the word: cat\n",
            "Guess the word: cat\n",
            "Guess the word: cat\n",
            "Guess the word: cat\n",
            "You Loose!\n"
          ]
        }
      ],
      "source": [
        "secret_word = \"Sachitha\"\n",
        "guess = \"\"\n",
        "guess_count = 0\n",
        "guess_limit = 5\n",
        "out_of_guesses = False\n",
        "\n",
        "while guess != secret_word and not(out_of_guesses):\n",
        "  if guess_count < guess_limit:\n",
        "    guess = input(\"Guess the word: \")\n",
        "    guess_count += 1\n",
        "  else:\n",
        "    out_of_guesses = True\n",
        "\n",
        "if out_of_guesses:\n",
        "  print(\"You Loose!\")\n",
        "else:\n",
        "  print(\"You Win!\")"
      ]
    },
    {
      "cell_type": "code",
      "execution_count": null,
      "metadata": {
        "colab": {
          "base_uri": "https://localhost:8080/",
          "height": 452
        },
        "id": "OiNxLO0y7EiP",
        "outputId": "cf2e8ec3-fa98-47a9-dd56-0191dba11aab"
      },
      "outputs": [
        {
          "name": "stdout",
          "output_type": "stream",
          "text": [
            "What is your age? 13\n",
            "Your ticket is $15\n",
            "What is your age? 3\n",
            "Your ticket is $10\n",
            "What is your age? 2\n",
            "Your ticket is free\n"
          ]
        },
        {
          "ename": "KeyboardInterrupt",
          "evalue": "Interrupted by user",
          "output_type": "error",
          "traceback": [
            "\u001b[0;31m---------------------------------------------------------------------------\u001b[0m",
            "\u001b[0;31mKeyboardInterrupt\u001b[0m                         Traceback (most recent call last)",
            "\u001b[0;32m<ipython-input-3-57c63c505592>\u001b[0m in \u001b[0;36m<cell line: 6>\u001b[0;34m()\u001b[0m\n\u001b[1;32m      5\u001b[0m \u001b[0;34m\u001b[0m\u001b[0m\n\u001b[1;32m      6\u001b[0m \u001b[0;32mwhile\u001b[0m \u001b[0;32mTrue\u001b[0m\u001b[0;34m:\u001b[0m\u001b[0;34m\u001b[0m\u001b[0;34m\u001b[0m\u001b[0m\n\u001b[0;32m----> 7\u001b[0;31m   \u001b[0mage\u001b[0m \u001b[0;34m=\u001b[0m \u001b[0minput\u001b[0m\u001b[0;34m(\u001b[0m\u001b[0;34m\"What is your age? \"\u001b[0m\u001b[0;34m)\u001b[0m\u001b[0;34m\u001b[0m\u001b[0;34m\u001b[0m\u001b[0m\n\u001b[0m\u001b[1;32m      8\u001b[0m   \u001b[0;32mif\u001b[0m \u001b[0mage\u001b[0m \u001b[0;34m==\u001b[0m \u001b[0;34m\"quit\"\u001b[0m\u001b[0;34m:\u001b[0m\u001b[0;34m\u001b[0m\u001b[0;34m\u001b[0m\u001b[0m\n\u001b[1;32m      9\u001b[0m     \u001b[0;32mbreak\u001b[0m\u001b[0;34m\u001b[0m\u001b[0;34m\u001b[0m\u001b[0m\n",
            "\u001b[0;32m/usr/local/lib/python3.10/dist-packages/ipykernel/kernelbase.py\u001b[0m in \u001b[0;36mraw_input\u001b[0;34m(self, prompt)\u001b[0m\n\u001b[1;32m    849\u001b[0m                 \u001b[0;34m\"raw_input was called, but this frontend does not support input requests.\"\u001b[0m\u001b[0;34m\u001b[0m\u001b[0;34m\u001b[0m\u001b[0m\n\u001b[1;32m    850\u001b[0m             )\n\u001b[0;32m--> 851\u001b[0;31m         return self._input_request(str(prompt),\n\u001b[0m\u001b[1;32m    852\u001b[0m             \u001b[0mself\u001b[0m\u001b[0;34m.\u001b[0m\u001b[0m_parent_ident\u001b[0m\u001b[0;34m,\u001b[0m\u001b[0;34m\u001b[0m\u001b[0;34m\u001b[0m\u001b[0m\n\u001b[1;32m    853\u001b[0m             \u001b[0mself\u001b[0m\u001b[0;34m.\u001b[0m\u001b[0m_parent_header\u001b[0m\u001b[0;34m,\u001b[0m\u001b[0;34m\u001b[0m\u001b[0;34m\u001b[0m\u001b[0m\n",
            "\u001b[0;32m/usr/local/lib/python3.10/dist-packages/ipykernel/kernelbase.py\u001b[0m in \u001b[0;36m_input_request\u001b[0;34m(self, prompt, ident, parent, password)\u001b[0m\n\u001b[1;32m    893\u001b[0m             \u001b[0;32mexcept\u001b[0m \u001b[0mKeyboardInterrupt\u001b[0m\u001b[0;34m:\u001b[0m\u001b[0;34m\u001b[0m\u001b[0;34m\u001b[0m\u001b[0m\n\u001b[1;32m    894\u001b[0m                 \u001b[0;31m# re-raise KeyboardInterrupt, to truncate traceback\u001b[0m\u001b[0;34m\u001b[0m\u001b[0;34m\u001b[0m\u001b[0m\n\u001b[0;32m--> 895\u001b[0;31m                 \u001b[0;32mraise\u001b[0m \u001b[0mKeyboardInterrupt\u001b[0m\u001b[0;34m(\u001b[0m\u001b[0;34m\"Interrupted by user\"\u001b[0m\u001b[0;34m)\u001b[0m \u001b[0;32mfrom\u001b[0m \u001b[0;32mNone\u001b[0m\u001b[0;34m\u001b[0m\u001b[0;34m\u001b[0m\u001b[0m\n\u001b[0m\u001b[1;32m    896\u001b[0m             \u001b[0;32mexcept\u001b[0m \u001b[0mException\u001b[0m \u001b[0;32mas\u001b[0m \u001b[0me\u001b[0m\u001b[0;34m:\u001b[0m\u001b[0;34m\u001b[0m\u001b[0;34m\u001b[0m\u001b[0m\n\u001b[1;32m    897\u001b[0m                 \u001b[0mself\u001b[0m\u001b[0;34m.\u001b[0m\u001b[0mlog\u001b[0m\u001b[0;34m.\u001b[0m\u001b[0mwarning\u001b[0m\u001b[0;34m(\u001b[0m\u001b[0;34m\"Invalid Message:\"\u001b[0m\u001b[0;34m,\u001b[0m \u001b[0mexc_info\u001b[0m\u001b[0;34m=\u001b[0m\u001b[0;32mTrue\u001b[0m\u001b[0;34m)\u001b[0m\u001b[0;34m\u001b[0m\u001b[0;34m\u001b[0m\u001b[0m\n",
            "\u001b[0;31mKeyboardInterrupt\u001b[0m: Interrupted by user"
          ]
        }
      ],
      "source": [
        "#ACTIVITY 1\n",
        "#A movie theater charges different ticket prices depending on a person's age. If a person is under the age of 3, the\n",
        "#ticket is free; if they are between 3 and 12, the ticket is $10; and if they are over age 12, the ticket is $15.\n",
        "#Write a loop in which you ask users their age, and then tell them the cost of their movie ticket.\n",
        "\n",
        "while True:\n",
        "  age = input(\"What is your age? \")\n",
        "  if age == \"quit\":\n",
        "    break\n",
        "  age = int(age)\n",
        "  if age < 3:\n",
        "    print(\"Your ticket is free\")\n",
        "  elif 3 <= age <= 12:\n",
        "    print(\"Your ticket is $10\")\n",
        "  else:\n",
        "    print(\"Your ticket is $15\")\n",
        "\n"
      ]
    },
    {
      "cell_type": "code",
      "execution_count": null,
      "metadata": {
        "colab": {
          "base_uri": "https://localhost:8080/"
        },
        "id": "LTq2pli9_Hqs",
        "outputId": "c9e6d2ef-c076-4fb2-8b06-76bcc216c1ba"
      },
      "outputs": [
        {
          "name": "stdout",
          "output_type": "stream",
          "text": [
            "I am making your tuna sandwich\n",
            "I am making your chicken sandwich\n",
            "I am making your veggie sandwich\n",
            "I am making your BLT sandwich\n",
            "\n",
            "\n",
            "I have made your tuna sandwich\n",
            "I have made your chicken sandwich\n",
            "I have made your veggie sandwich\n",
            "I have made your BLT sandwich\n"
          ]
        }
      ],
      "source": [
        "#ACTIVITY 2\n",
        "#Make a list called sandwich_orders and fill it with the names of various sandwiches. Then make an empty list called\n",
        "#finished_sandwiches. Loop through the list of sandwich orders and print a message for each order, such as I made your\n",
        "#tuna sandwich. As each sandwich is made, move it to the list of finished sandwiches. After all the sandwiches have been\n",
        "#made, print a message listing each sandwich that was made.\n",
        "sandwich_orders = [\"BLT\", \"veggie\", \"chicken\", \"tuna\"]\n",
        "finished_sandwiches = []\n",
        "\n",
        "while sandwich_orders:\n",
        "  current_sandwich = sandwich_orders.pop()\n",
        "  #print(\"I am making your\" + current_sandwich + \"sandwich\")\n",
        "  print(f\"I am making your {current_sandwich} sandwich\")\n",
        "  finished_sandwiches.append(current_sandwich)\n",
        "\n",
        "print(\"\\n\")\n",
        "\n",
        "for sandwich in finished_sandwiches:\n",
        "  print(f\"I have made your {sandwich} sandwich\")\n",
        "\n",
        "# for x in sandwich_orders:\n",
        "#   finished_sandwiches.append(x)\n",
        "#   sandwich_orders.pop(x)\n",
        "#   print(\"I made your \" + x + \" sandwich.\")\n",
        "#print(finished_sandwiches)\n",
        "#print(sandwich_orders)"
      ]
    },
    {
      "cell_type": "code",
      "execution_count": null,
      "metadata": {
        "colab": {
          "base_uri": "https://localhost:8080/"
        },
        "id": "7cUHrJcx13uH",
        "outputId": "1e94f1ac-3ff1-42b0-9ab0-93a0742ee217"
      },
      "outputs": [
        {
          "name": "stdout",
          "output_type": "stream",
          "text": [
            "['BLT', 'chicken', 'tuna']\n",
            "['BLT', 'chicken', 'tuna', 'veggie']\n",
            "['chocolate', 'BLT', 'chicken', 'tuna', 'veggie']\n"
          ]
        }
      ],
      "source": [
        "#Revision 1 - Oct 7 (Day 2)\n",
        "sandwich_orders = [\"BLT\", \"veggie\", \"chicken\", \"tuna\"]\n",
        "\n",
        "#print(sandwich_orders.pop(-2))\n",
        "\n",
        "sandwich_orders.remove(\"veggie\")\n",
        "print(sandwich_orders)\n",
        "\n",
        "sandwich_orders.append(\"veggie\")\n",
        "print(sandwich_orders)\n",
        "\n",
        "other_orders = [\"cookies\", \"salad\", \"cake\"]\n",
        "\n",
        "#Question: why are the two yeilding different results.\n",
        "# sandwich_orders.extend(other_orders)\n",
        "# print(sandwich_orders)\n",
        "\n",
        "# a = sandwich_orders.extend(other_orders)\n",
        "# print(a)\n",
        "\n",
        "sandwich_orders.insert(0, \"chocolate\")\n",
        "print(sandwich_orders)"
      ]
    },
    {
      "cell_type": "code",
      "execution_count": null,
      "metadata": {
        "colab": {
          "background_save": true,
          "base_uri": "https://localhost:8080/"
        },
        "id": "TEEYe_6T_on7",
        "outputId": "193fb089-5c44-4308-e4c1-1981af9acd5f"
      },
      "outputs": [
        {
          "name": "stdout",
          "output_type": "stream",
          "text": [
            "I am adding a into your pizza.\n",
            "I am adding quit into your pizza.\n"
          ]
        }
      ],
      "source": [
        "_#ACTIVITY 3\n",
        "#Write a loop that prompts the user to enter a series of pizza toppings until they enter a quit value. As they enter\n",
        "#each topping, print a message saying you'll add that topping to their pizza.\n",
        "\n",
        "#Include a while loop\n",
        "\n",
        "#Try again\n",
        "\n",
        "while True:\n",
        "  topping_list = []\n",
        "  topping_list.append(input(\"What topping would you like to add? \"))\n",
        "  if topping_list == \"quit\":\n",
        "    break\n",
        "  for topping in topping_list:\n",
        "    print(f\"I am adding {topping} into your pizza.\")\n",
        "\n",
        "# for x in topping_list:\n",
        "#   print(\"I will add \" + x + \" to your pizza.\")"
      ]
    },
    {
      "cell_type": "code",
      "execution_count": null,
      "metadata": {
        "colab": {
          "base_uri": "https://localhost:8080/"
        },
        "id": "9VFoze7tDEYU",
        "outputId": "acd497d0-b389-4a14-e32a-12b91b91eada"
      },
      "outputs": [
        {
          "name": "stdout",
          "output_type": "stream",
          "text": [
            "The deli has run out of pastrami.\n",
            "I made your BLT sandwich.\n",
            "I made your veggie sandwich.\n",
            "I made your chicken sandwich.\n",
            "I made your tuna sandwich.\n",
            "['BLT', 'veggie', 'chicken', 'tuna']\n"
          ]
        }
      ],
      "source": [
        "#ACTIVITY 4\n",
        "#Using the list sandwich_orders from Exercise 7-8, make sure the sandwich 'pastrami' appears in the list at least three\n",
        "#times. Add code near the beginning of your program to print a message saying the deli has run out of pastrami, and then\n",
        "#use a while loop to remove all occurrences of 'pastrami' from sandwich_orders. Make sure no pastrami sandwiches end up\n",
        "#in finished_sandiches.\n",
        "sandwich_orders = [\"pastrami\",\"BLT\", \"veggie\", \"pastrami\", \"chicken\", \"tuna\", \"pastrami\"]\n",
        "finished_sandwiches = []\n",
        "print(\"The deli has run out of pastrami.\")\n",
        "for x in sandwich_orders:\n",
        "  while x != \"pastrami\":\n",
        "    finished_sandwiches.append(x)\n",
        "    print(\"I made your \" + x + \" sandwich.\")\n",
        "    break\n",
        "print(finished_sandwiches)\n"
      ]
    },
    {
      "cell_type": "code",
      "execution_count": null,
      "metadata": {
        "id": "FGQTI7lUF2PX"
      },
      "outputs": [],
      "source": [
        "#ACTIVITY 5\n",
        "#Write a program that polls users about their dream vacation. Write a prompt similar to If you could visit one place in\n",
        "#the world, where would you go? Include a block of code that prints the results of the poll.\n",
        "\n",
        "#Hint: key value pair (person:vacation)\n",
        "\n",
        "# dream_vacation_list = []\n",
        "# dream_vacation = input(\"If you could visit one place in the world, where would you go? \")\n",
        "# dream_vacation_list.append(dream_vacation)\n",
        "\n",
        "ask_name = \"What is your name? \"\n",
        "ask_dream_vacation = \"what is your dream vacation? \"\n",
        "continue_prompt = \"Would you like to continue? Yes or No. \"\n",
        "\n",
        "responses = {}\n",
        "\n",
        "while True:\n",
        "  name = input(ask_name)\n",
        "  dream_vacation = input(ask_dream_vacation)\n",
        "\n",
        "  #Storing responses\n",
        "  responses[name] = dream_vacation\n",
        "\n",
        "  repeat = input(continue_prompt)\n",
        "  if repeat != \"Yes\":\n",
        "    break\n",
        "\n",
        "print(responses)\n",
        "for name, dream_vacation in responses.items():\n",
        "  print(f\"{name.title()} would like to visit {dream_vacation.title()}\")"
      ]
    },
    {
      "cell_type": "code",
      "source": [
        "#Activity 6\n",
        "initial_balance = 10000\n",
        "while True:\n",
        "    a = input(\"How much would you like to withdraw?\")\n",
        "    amount = float(a)\n",
        "    if amount <= initial_balance:\n",
        "        initial_balance = initial_balance - amount\n",
        "        print(initial_balance)\n",
        "    else:\n",
        "        print(\"Not possible.\")\n",
        "#Where does break go?"
      ],
      "metadata": {
        "id": "EVUTGKmGM9HN",
        "colab": {
          "base_uri": "https://localhost:8080/",
          "height": 350
        },
        "outputId": "4e5a97c2-6917-4339-bbe0-5faed0564290"
      },
      "execution_count": null,
      "outputs": [
        {
          "output_type": "error",
          "ename": "KeyboardInterrupt",
          "evalue": "Interrupted by user",
          "traceback": [
            "\u001b[0;31m---------------------------------------------------------------------------\u001b[0m",
            "\u001b[0;31mKeyboardInterrupt\u001b[0m                         Traceback (most recent call last)",
            "\u001b[0;32m<ipython-input-1-2dfc59718403>\u001b[0m in \u001b[0;36m<cell line: 3>\u001b[0;34m()\u001b[0m\n\u001b[1;32m      2\u001b[0m \u001b[0minitial_balance\u001b[0m \u001b[0;34m=\u001b[0m \u001b[0;36m10000\u001b[0m\u001b[0;34m\u001b[0m\u001b[0;34m\u001b[0m\u001b[0m\n\u001b[1;32m      3\u001b[0m \u001b[0;32mwhile\u001b[0m \u001b[0;32mTrue\u001b[0m\u001b[0;34m:\u001b[0m\u001b[0;34m\u001b[0m\u001b[0;34m\u001b[0m\u001b[0m\n\u001b[0;32m----> 4\u001b[0;31m     \u001b[0ma\u001b[0m \u001b[0;34m=\u001b[0m \u001b[0minput\u001b[0m\u001b[0;34m(\u001b[0m\u001b[0;34m\"How much would you like to withdraw?\"\u001b[0m\u001b[0;34m)\u001b[0m\u001b[0;34m\u001b[0m\u001b[0;34m\u001b[0m\u001b[0m\n\u001b[0m\u001b[1;32m      5\u001b[0m     \u001b[0mamount\u001b[0m \u001b[0;34m=\u001b[0m \u001b[0mfloat\u001b[0m\u001b[0;34m(\u001b[0m\u001b[0ma\u001b[0m\u001b[0;34m)\u001b[0m\u001b[0;34m\u001b[0m\u001b[0;34m\u001b[0m\u001b[0m\n\u001b[1;32m      6\u001b[0m     \u001b[0;32mif\u001b[0m \u001b[0mamount\u001b[0m \u001b[0;34m<=\u001b[0m \u001b[0minitial_balance\u001b[0m\u001b[0;34m:\u001b[0m\u001b[0;34m\u001b[0m\u001b[0;34m\u001b[0m\u001b[0m\n",
            "\u001b[0;32m/usr/local/lib/python3.10/dist-packages/ipykernel/kernelbase.py\u001b[0m in \u001b[0;36mraw_input\u001b[0;34m(self, prompt)\u001b[0m\n\u001b[1;32m    849\u001b[0m                 \u001b[0;34m\"raw_input was called, but this frontend does not support input requests.\"\u001b[0m\u001b[0;34m\u001b[0m\u001b[0;34m\u001b[0m\u001b[0m\n\u001b[1;32m    850\u001b[0m             )\n\u001b[0;32m--> 851\u001b[0;31m         return self._input_request(str(prompt),\n\u001b[0m\u001b[1;32m    852\u001b[0m             \u001b[0mself\u001b[0m\u001b[0;34m.\u001b[0m\u001b[0m_parent_ident\u001b[0m\u001b[0;34m,\u001b[0m\u001b[0;34m\u001b[0m\u001b[0;34m\u001b[0m\u001b[0m\n\u001b[1;32m    853\u001b[0m             \u001b[0mself\u001b[0m\u001b[0;34m.\u001b[0m\u001b[0m_parent_header\u001b[0m\u001b[0;34m,\u001b[0m\u001b[0;34m\u001b[0m\u001b[0;34m\u001b[0m\u001b[0m\n",
            "\u001b[0;32m/usr/local/lib/python3.10/dist-packages/ipykernel/kernelbase.py\u001b[0m in \u001b[0;36m_input_request\u001b[0;34m(self, prompt, ident, parent, password)\u001b[0m\n\u001b[1;32m    893\u001b[0m             \u001b[0;32mexcept\u001b[0m \u001b[0mKeyboardInterrupt\u001b[0m\u001b[0;34m:\u001b[0m\u001b[0;34m\u001b[0m\u001b[0;34m\u001b[0m\u001b[0m\n\u001b[1;32m    894\u001b[0m                 \u001b[0;31m# re-raise KeyboardInterrupt, to truncate traceback\u001b[0m\u001b[0;34m\u001b[0m\u001b[0;34m\u001b[0m\u001b[0m\n\u001b[0;32m--> 895\u001b[0;31m                 \u001b[0;32mraise\u001b[0m \u001b[0mKeyboardInterrupt\u001b[0m\u001b[0;34m(\u001b[0m\u001b[0;34m\"Interrupted by user\"\u001b[0m\u001b[0;34m)\u001b[0m \u001b[0;32mfrom\u001b[0m \u001b[0;32mNone\u001b[0m\u001b[0;34m\u001b[0m\u001b[0;34m\u001b[0m\u001b[0m\n\u001b[0m\u001b[1;32m    896\u001b[0m             \u001b[0;32mexcept\u001b[0m \u001b[0mException\u001b[0m \u001b[0;32mas\u001b[0m \u001b[0me\u001b[0m\u001b[0;34m:\u001b[0m\u001b[0;34m\u001b[0m\u001b[0;34m\u001b[0m\u001b[0m\n\u001b[1;32m    897\u001b[0m                 \u001b[0mself\u001b[0m\u001b[0;34m.\u001b[0m\u001b[0mlog\u001b[0m\u001b[0;34m.\u001b[0m\u001b[0mwarning\u001b[0m\u001b[0;34m(\u001b[0m\u001b[0;34m\"Invalid Message:\"\u001b[0m\u001b[0;34m,\u001b[0m \u001b[0mexc_info\u001b[0m\u001b[0;34m=\u001b[0m\u001b[0;32mTrue\u001b[0m\u001b[0;34m)\u001b[0m\u001b[0;34m\u001b[0m\u001b[0;34m\u001b[0m\u001b[0m\n",
            "\u001b[0;31mKeyboardInterrupt\u001b[0m: Interrupted by user"
          ]
        }
      ]
    },
    {
      "cell_type": "code",
      "source": [
        "#Activity 7\n",
        "while True:\n",
        "    password = str(input(\"Set a password: \"))\n",
        "    if len (password) >= 8:\n",
        "        print(\"Accepted\")\n",
        "        break\n",
        "    else:\n",
        "        print(\"rejected\")\n",
        "#How can I check for character in password?"
      ],
      "metadata": {
        "id": "Dg6ZJVPgoJDo"
      },
      "execution_count": null,
      "outputs": []
    },
    {
      "cell_type": "code",
      "source": [
        "#Activity 8\n",
        "timer = int(input(\"What time would you like to set?\"))\n",
        "while True:\n",
        "    if timer >= 0:\n",
        "        print(timer)\n",
        "        timer = timer - 1\n",
        "    else:\n",
        "        print(\"select valid time.\")\n",
        "        break\n",
        "#How do I make it stop before printing \"select a valid time\"?"
      ],
      "metadata": {
        "id": "5ZSEOeqooOIr"
      },
      "execution_count": null,
      "outputs": []
    },
    {
      "cell_type": "code",
      "source": [
        "#Activity 9\n",
        "stock_inventory = 100\n",
        "while True:\n",
        "    p = input(\"How much would you like to purchase?\")\n",
        "    purchase = int(p)\n",
        "    if purchase <= 100:\n",
        "        stock_inventory = stock_inventory - purchase\n",
        "        print(f\"You have {stock_inventory} left.\")\n",
        "    else:\n",
        "        print(\"Not possible. Stock empty\")\n",
        "        break\n",
        "#How do I not let it get below 0 in if. What is the difference between = and == of stock inventory with regards to how the\n",
        "#function performs?"
      ],
      "metadata": {
        "id": "qS0Er2W7oPEV"
      },
      "execution_count": null,
      "outputs": []
    },
    {
      "cell_type": "code",
      "source": [
        "#Activity 10\n",
        "threshold = 0\n",
        "\n",
        "while True:\n",
        "    principal_amount = str(input(\"What is your principal amount? \"))\n",
        "    monthly_interest_rate = str(input(\"What is your monthly interest rate? \"))\n",
        "    if threshold < 10000:\n",
        "        amount =\n",
        "\n",
        "#What is the formula?"
      ],
      "metadata": {
        "id": "_rx4JkrDoSmv"
      },
      "execution_count": null,
      "outputs": []
    },
    {
      "cell_type": "code",
      "source": [
        "#Numbers and Strings\n",
        "num_1 = 5\n",
        "print(num_1)\n",
        "\n",
        "num_2 = -5.5\n",
        "print(num_2)\n",
        "\n",
        "#Absolute value\n",
        "print(abs(num_2))\n",
        "\n",
        "#Round value\n",
        "print(round(num_2))\n",
        "\n",
        "#Power\n",
        "print(pow(3,2))\n",
        "\n",
        "#Min, Max\n",
        "print(min(1,2,3))\n",
        "print(max(55,68,913))\n",
        "\n",
        "#You use import math instead of below when you want a quick alias like import math as m\n",
        "#Math\n",
        "from math import *\n",
        "\n",
        "#Floor function\n",
        "print(floor(3.9))\n",
        "\n",
        "#Floor division\n",
        "print(5//2)\n",
        "\n",
        "#Ceiling\n",
        "print(ceil(3.3))\n",
        "\n",
        "#Sqrt\n",
        "print(sqrt(9))\n"
      ],
      "metadata": {
        "colab": {
          "base_uri": "https://localhost:8080/"
        },
        "id": "yVJL_aGDwjL0",
        "outputId": "efd54674-0f9b-4735-9c9b-019c75c4be03"
      },
      "execution_count": null,
      "outputs": [
        {
          "output_type": "stream",
          "name": "stdout",
          "text": [
            "5\n",
            "-5.5\n",
            "5.5\n",
            "-6\n",
            "9.0\n",
            "1\n",
            "913\n",
            "3\n",
            "2\n",
            "4\n",
            "3.0\n"
          ]
        }
      ]
    }
  ],
  "metadata": {
    "colab": {
      "provenance": [],
      "include_colab_link": true
    },
    "kernelspec": {
      "display_name": "Python 3",
      "name": "python3"
    },
    "language_info": {
      "name": "python"
    }
  },
  "nbformat": 4,
  "nbformat_minor": 0
}