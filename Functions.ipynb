{
  "nbformat": 4,
  "nbformat_minor": 0,
  "metadata": {
    "colab": {
      "provenance": [],
      "authorship_tag": "ABX9TyOO4hwQ6HAokiG3yaICGb40",
      "include_colab_link": true
    },
    "kernelspec": {
      "name": "python3",
      "display_name": "Python 3"
    },
    "language_info": {
      "name": "python"
    }
  },
  "cells": [
    {
      "cell_type": "markdown",
      "metadata": {
        "id": "view-in-github",
        "colab_type": "text"
      },
      "source": [
        "<a href=\"https://colab.research.google.com/github/Bhatss/BT---Advanced-Python/blob/main/Functions.ipynb\" target=\"_parent\"><img src=\"https://colab.research.google.com/assets/colab-badge.svg\" alt=\"Open In Colab\"/></a>"
      ]
    },
    {
      "cell_type": "code",
      "execution_count": null,
      "metadata": {
        "id": "QBmRmUBnpn9y"
      },
      "outputs": [],
      "source": [
        "#defining a function\n",
        "\n",
        "def say_hello():\n",
        "    print(\"Hello user\")\n",
        "\n",
        "say_hello()"
      ]
    },
    {
      "cell_type": "code",
      "source": [
        "def say_hello(name):\n",
        "    print(f\"Hello {name}\")\n",
        "\n",
        "say_hello(\"Sachi\")"
      ],
      "metadata": {
        "id": "RzLsKgolpr_s"
      },
      "execution_count": null,
      "outputs": []
    },
    {
      "cell_type": "code",
      "source": [
        "def say_hello(name):\n",
        "    print(\"Hello\" + name)\n",
        "\n",
        "say_hello(\"Sachi\")"
      ],
      "metadata": {
        "id": "_VqwRW9-pugH"
      },
      "execution_count": null,
      "outputs": []
    },
    {
      "cell_type": "code",
      "source": [
        "#When you write a string in print, need to be quote, int comes as int.\n",
        "def say_hello(name, age):\n",
        "    print(f\"Hello {name}, you are {age}\")\n",
        "\n",
        "say_hello(\"Sachi\", 3)"
      ],
      "metadata": {
        "id": "RqwYM6K7pwfX"
      },
      "execution_count": null,
      "outputs": []
    },
    {
      "cell_type": "code",
      "source": [
        "#Return\n",
        "def cube(a):\n",
        "    return a*a*a\n",
        "cube(8)"
      ],
      "metadata": {
        "id": "Ngdlxs1lpxFh"
      },
      "execution_count": null,
      "outputs": []
    },
    {
      "cell_type": "code",
      "source": [
        "#If statements and comparisons\n",
        "def max_num(a,b,c):\n",
        "    if a < b and b > c:\n",
        "        return b\n",
        "    elif a > b and a > c:\n",
        "        return a\n",
        "    else:\n",
        "        return c\n",
        "max_num(98,2,35)"
      ],
      "metadata": {
        "id": "vrphgTQOpyt3"
      },
      "execution_count": null,
      "outputs": []
    },
    {
      "cell_type": "code",
      "source": [
        "#Dictionaries are used to store key value pairs\n",
        "month_conversion = {\"Jan\" : \"1\", \"Feb\" : \"2\", \"March\" : \"3\"}\n",
        "print(month_conversion)\n",
        "print(month_conversion[\"March\"])\n",
        "print(month_conversion.get(\"Jan\"))\n",
        "print(month_conversion.get(\"May\"))"
      ],
      "metadata": {
        "id": "LghZYTB8p0ho"
      },
      "execution_count": null,
      "outputs": []
    },
    {
      "cell_type": "code",
      "source": [
        "#Simple Greeting Function\n",
        "def say_hello(name):\n",
        "    print(f\"Hello {name}\")\n",
        "\n",
        "say_hello(\"Sachi\")"
      ],
      "metadata": {
        "colab": {
          "base_uri": "https://localhost:8080/"
        },
        "id": "tYl0z2g8p_z5",
        "outputId": "646a7da1-3707-4811-867b-dde3cd310952"
      },
      "execution_count": null,
      "outputs": [
        {
          "output_type": "stream",
          "name": "stdout",
          "text": [
            "Hello Sachi\n"
          ]
        }
      ]
    },
    {
      "cell_type": "code",
      "source": [
        "#Calculate Area of a Circle\n",
        "#When doing raised to use ** instead of ^\n",
        "import math\n",
        "\n",
        "def calculate_area(radius):\n",
        "  area = math.pi*(radius**2)\n",
        "  print(round(area,2))\n",
        "\n",
        "calculate_area(3)"
      ],
      "metadata": {
        "colab": {
          "base_uri": "https://localhost:8080/"
        },
        "id": "4THliWEXqIJP",
        "outputId": "d87cba33-87fc-49b1-d799-e27224169488"
      },
      "execution_count": null,
      "outputs": [
        {
          "output_type": "stream",
          "name": "stdout",
          "text": [
            "28.27\n"
          ]
        }
      ]
    },
    {
      "cell_type": "code",
      "source": [
        "#Find Maximum of Three Numbers\n",
        "#Ideally the input will be a list of numbers and the function will calculate the max.\n",
        "\n",
        "def maximum(nums):\n",
        "  max_num = nums[0]\n",
        "  for num in nums:\n",
        "    if num > max_num:\n",
        "      max_num = num\n",
        "  return max_num\n",
        "\n",
        "nums = [19,258, 2865, 63, 720, 155363]\n",
        "print(maximum(nums))"
      ],
      "metadata": {
        "colab": {
          "base_uri": "https://localhost:8080/"
        },
        "id": "7Z0bo9asqI5U",
        "outputId": "c8befb57-f207-4f55-98d8-54a8380231e3"
      },
      "execution_count": null,
      "outputs": [
        {
          "output_type": "stream",
          "name": "stdout",
          "text": [
            "155363\n"
          ]
        }
      ]
    },
    {
      "cell_type": "code",
      "source": [
        "#Temperature Conversion: Create a function called celsius_to_fahrenheit(celsius) that takes a temperature in Celsius\n",
        "# and converts it to Fahrenheit using the formula F = (C * 9/5) + 32.\n",
        "\n",
        "def celsius_to_fahrenheit(celsius):\n",
        "  print((celsius * 9/5) + 32)\n",
        "\n",
        "celsius_to_fahrenheit(25)"
      ],
      "metadata": {
        "colab": {
          "base_uri": "https://localhost:8080/"
        },
        "id": "dA_lV7lrqLAw",
        "outputId": "184fea27-3748-429d-86d0-72efa8de2901"
      },
      "execution_count": null,
      "outputs": [
        {
          "output_type": "stream",
          "name": "stdout",
          "text": [
            "77.0\n"
          ]
        }
      ]
    },
    {
      "cell_type": "code",
      "source": [
        "#Check for Prime Number: Write a function called is_prime(number) that checks whether a given number is prime or not.\n",
        "# def is_prime(number):\n",
        "#   if number % 2 > 0:\n",
        "#     print(f\"{number} is a prime number.\")\n",
        "#   else:\n",
        "#     print(f\"{number} is not a prime number.\")\n",
        "\n",
        "# is_prime(80)\n",
        "\n",
        "def is_prime(number):\n",
        "  if number <= 1:\n",
        "    return False\n",
        "  for n in range(2, number):\n",
        "    if number % n == 0:\n",
        "      return False\n",
        "      print(f\"{n} is not a prime number.\")\n",
        "    #else:\n",
        "      #print(f\"{n} is a prime number.\")\n",
        "  return True\n",
        "\n",
        "is_prime(7)\n",
        "\n",
        "#Give this another try."
      ],
      "metadata": {
        "colab": {
          "base_uri": "https://localhost:8080/"
        },
        "id": "zxvwHr11qO4n",
        "outputId": "1b8134f9-9026-42b3-85ee-fb541e65007e"
      },
      "execution_count": null,
      "outputs": [
        {
          "output_type": "execute_result",
          "data": {
            "text/plain": [
              "True"
            ]
          },
          "metadata": {},
          "execution_count": 42
        }
      ]
    },
    {
      "cell_type": "code",
      "source": [
        "# Check for Prime Number, try 2\n",
        "def is_prime(number):\n",
        "  if number <= 1:\n",
        "    return False\n",
        "  for i in range(2, int(number ** 0.5) + 1):\n",
        "    if number % i == 0:\n",
        "      return False\n",
        "  return True\n",
        "\n",
        "print(is_prime(13))"
      ],
      "metadata": {
        "colab": {
          "base_uri": "https://localhost:8080/"
        },
        "id": "2OheU-mU4pO1",
        "outputId": "5b43e687-fa84-47dc-a221-af695c256f43"
      },
      "execution_count": null,
      "outputs": [
        {
          "output_type": "stream",
          "name": "stdout",
          "text": [
            "True\n"
          ]
        }
      ]
    },
    {
      "cell_type": "code",
      "source": [
        "#Fibonacci Sequence: Create a function called fibonacci(n) that returns the first n numbers in the Fibonacci sequence.\n",
        "#0 1 1 2 3 5 8 13 21 34 ...\n",
        "def fibonacci(n):\n",
        "  fib_seq = [0,1]\n",
        "  for f in range(2,n):\n",
        "    fib_seq.append(fib_seq[f-1] + fib_seq[f-2])\n",
        "  return fib_seq\n",
        "\n",
        "fibonacci(5)"
      ],
      "metadata": {
        "id": "80KGRt3mqT8E",
        "colab": {
          "base_uri": "https://localhost:8080/"
        },
        "outputId": "dbd418e8-21ee-4ec7-93f2-ee21dbe95075"
      },
      "execution_count": null,
      "outputs": [
        {
          "output_type": "execute_result",
          "data": {
            "text/plain": [
              "[0, 1, 1, 2, 3]"
            ]
          },
          "metadata": {},
          "execution_count": 47
        }
      ]
    },
    {
      "cell_type": "code",
      "source": [
        "#Count Vowels in a String.\n",
        "def vowels(word):\n",
        "  a = 0\n",
        "  for x in word:\n",
        "    if x in \"aeiou\":\n",
        "      a += 1\n",
        "  print(a,\"\\n\")\n",
        "vowels(\"sachitha\")\n",
        "\n",
        "def vowels(word):\n",
        "  for x in word:\n",
        "    a = 0\n",
        "    if x in \"aeiou\":\n",
        "      a += 1\n",
        "      print(a)\n",
        "vowels(\"sachitha\")"
      ],
      "metadata": {
        "id": "4n4ZLMXnqVCH",
        "colab": {
          "base_uri": "https://localhost:8080/"
        },
        "outputId": "1d590256-8897-45f6-916e-2e2e6f7e50b0"
      },
      "execution_count": null,
      "outputs": [
        {
          "output_type": "stream",
          "name": "stdout",
          "text": [
            "3 \n",
            "\n",
            "1\n",
            "1\n",
            "1\n"
          ]
        }
      ]
    },
    {
      "cell_type": "code",
      "source": [
        "#Count Vowels in a String. try 2\n",
        "def count_vowels(word):\n",
        "  vowels = \"aeiouAEIOU\"\n",
        "  count = 0\n",
        "  for x in word:\n",
        "    if x in vowels:\n",
        "      count += 1\n",
        "  return count\n",
        "\n",
        "print(count_vowels(\"sachitha\"))"
      ],
      "metadata": {
        "colab": {
          "base_uri": "https://localhost:8080/"
        },
        "id": "iE_tKQys7xg3",
        "outputId": "e9d8ae74-537b-4dd9-b7cb-3554c51c7e79"
      },
      "execution_count": null,
      "outputs": [
        {
          "output_type": "stream",
          "name": "stdout",
          "text": [
            "3\n"
          ]
        }
      ]
    },
    {
      "cell_type": "code",
      "source": [
        "#Palindrome Checker.\n",
        "#To reverse something its just ::-1\n",
        "def pali(word):\n",
        "  return word == word[::-1]\n",
        "\n",
        "print(pali(\"malayalam\"))\n",
        "print(pali(\"tacocat\"))\n",
        "print(pali(\"Miss\"))"
      ],
      "metadata": {
        "id": "1bhS4Dx0qW48",
        "colab": {
          "base_uri": "https://localhost:8080/"
        },
        "outputId": "b4c61ebc-5c61-4cec-e426-4d406116eb48"
      },
      "execution_count": null,
      "outputs": [
        {
          "output_type": "stream",
          "name": "stdout",
          "text": [
            "True\n",
            "True\n",
            "False\n"
          ]
        }
      ]
    },
    {
      "cell_type": "code",
      "source": [
        "#Factorial of a Number: Write a function called factorial(n) that returns the factorial of a given number n.\n",
        "def factorial(n):\n",
        "  x = 1\n",
        "  for n in range(x, n+1):\n",
        "    x = x * n\n",
        "  return x\n",
        "\n",
        "factorial(5)"
      ],
      "metadata": {
        "id": "OoCIeqPUqagz",
        "colab": {
          "base_uri": "https://localhost:8080/"
        },
        "outputId": "368cfbe2-97b8-43bb-c1f1-bbe82ee2d217"
      },
      "execution_count": null,
      "outputs": [
        {
          "output_type": "execute_result",
          "data": {
            "text/plain": [
              "120"
            ]
          },
          "metadata": {},
          "execution_count": 28
        }
      ]
    },
    {
      "cell_type": "code",
      "source": [
        "from re import I\n",
        "#Sum of Even Numbers: Create a function called sum_even_numbers(n) that returns the sum of all even numbers from 1 to n.\n",
        "def sum_even_numbers(n):\n",
        "  x = []\n",
        "  y = 0\n",
        "  for n in range (1,n+1):\n",
        "    if n % 2 == 0:\n",
        "      x.append(n)\n",
        "  return x\n",
        "  for i in x:\n",
        "    y += i\n",
        "  return y\n",
        "\n",
        "sum_even_numbers(10)"
      ],
      "metadata": {
        "id": "ix4T4WQLqbeY",
        "colab": {
          "base_uri": "https://localhost:8080/"
        },
        "outputId": "4f3e2fad-d3b0-4b87-aca2-a382b1e75cca"
      },
      "execution_count": null,
      "outputs": [
        {
          "output_type": "execute_result",
          "data": {
            "text/plain": [
              "[2, 4, 6, 8, 10]"
            ]
          },
          "metadata": {},
          "execution_count": 36
        }
      ]
    },
    {
      "cell_type": "code",
      "source": [
        "#Sum of Even Numbers: Create a function called sum_even_numbers(n) that returns the sum of all even numbers from 1 to n.\n",
        "def sum_even_numbers(n):\n",
        "  even_numbers = [x for x in range(2,n+1,2)]\n",
        "  y = sum(even_numbers)\n",
        "  return even_numbers, y\n",
        "\n",
        "sum_even_numbers(10)\n",
        "\n"
      ],
      "metadata": {
        "colab": {
          "base_uri": "https://localhost:8080/"
        },
        "id": "qSYV9Sly5W8Y",
        "outputId": "b78bf6bf-6995-43f6-9ee1-fdc03a32e225"
      },
      "execution_count": null,
      "outputs": [
        {
          "output_type": "execute_result",
          "data": {
            "text/plain": [
              "([2, 4, 6, 8, 10], 30)"
            ]
          },
          "metadata": {},
          "execution_count": 37
        }
      ]
    }
  ]
}