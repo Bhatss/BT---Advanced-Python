{
  "nbformat": 4,
  "nbformat_minor": 0,
  "metadata": {
    "colab": {
      "provenance": [],
      "include_colab_link": true
    },
    "kernelspec": {
      "name": "python3",
      "display_name": "Python 3"
    },
    "language_info": {
      "name": "python"
    }
  },
  "cells": [
    {
      "cell_type": "markdown",
      "metadata": {
        "id": "view-in-github",
        "colab_type": "text"
      },
      "source": [
        "<a href=\"https://colab.research.google.com/github/Bhatss/BT---Advanced-Python/blob/main/NumPy.ipynb\" target=\"_parent\"><img src=\"https://colab.research.google.com/assets/colab-badge.svg\" alt=\"Open In Colab\"/></a>"
      ]
    },
    {
      "cell_type": "code",
      "execution_count": null,
      "metadata": {
        "id": "-ro3HCf1XR7f"
      },
      "outputs": [],
      "source": [
        "# What is NumPy?\n",
        "# Why?\n",
        "# 1. Fixed Type: less bytes\n",
        "# 2. Contiguous memory"
      ]
    },
    {
      "cell_type": "code",
      "source": [
        "import numpy as np"
      ],
      "metadata": {
        "id": "yAWcz7LMYZZr"
      },
      "execution_count": null,
      "outputs": []
    },
    {
      "cell_type": "code",
      "source": [
        "my_arr = np.arange(1_000_000)\n",
        "print(my_arr)\n",
        "\n",
        "my_arr2 = my_arr * 2\n",
        "%timeit my_arr2 = my_arr * 2\n",
        "print(my_arr2)"
      ],
      "metadata": {
        "colab": {
          "base_uri": "https://localhost:8080/"
        },
        "id": "YfZ0ED_aYblS",
        "outputId": "9425f8f8-2c68-4d42-db1a-fc8f3281a665"
      },
      "execution_count": null,
      "outputs": [
        {
          "output_type": "stream",
          "name": "stdout",
          "text": [
            "[     0      1      2 ... 999997 999998 999999]\n",
            "1.8 ms ± 203 µs per loop (mean ± std. dev. of 7 runs, 1000 loops each)\n",
            "[      0       2       4 ... 1999994 1999996 1999998]\n"
          ]
        }
      ]
    },
    {
      "cell_type": "code",
      "source": [
        "data = np.array([[1.5, -0.1, 3],[0, -3, 6.5]])\n",
        "data"
      ],
      "metadata": {
        "colab": {
          "base_uri": "https://localhost:8080/"
        },
        "id": "LGMRDSIHaBYK",
        "outputId": "c80cd8ae-6d51-4e19-f5fb-9bef5214ebd8"
      },
      "execution_count": null,
      "outputs": [
        {
          "output_type": "execute_result",
          "data": {
            "text/plain": [
              "array([[ 1.5, -0.1,  3. ],\n",
              "       [ 0. , -3. ,  6.5]])"
            ]
          },
          "metadata": {},
          "execution_count": 13
        }
      ]
    },
    {
      "cell_type": "code",
      "source": [
        "a = np.array([1,2,3])\n",
        "print(a)"
      ],
      "metadata": {
        "colab": {
          "base_uri": "https://localhost:8080/"
        },
        "id": "VpRGBOOAasOt",
        "outputId": "7f1bd5dd-f3ed-458d-c143-f0b7be2c638f"
      },
      "execution_count": null,
      "outputs": [
        {
          "output_type": "stream",
          "name": "stdout",
          "text": [
            "[1 2 3]\n"
          ]
        }
      ]
    },
    {
      "cell_type": "code",
      "source": [
        "#The dimension is according to the number of []. So b is 2d and b1 is 3d.\n",
        "b = np.array([[9.0,8.0,7.0],[6.0,5.0,4.0]])\n",
        "print(b)\n",
        "b1 = np.array([[[1,2,3],[4,5,6],[7,8,9]]])\n",
        "print(b1)"
      ],
      "metadata": {
        "colab": {
          "base_uri": "https://localhost:8080/"
        },
        "id": "rSRhj3bWa-N3",
        "outputId": "9d32190b-cd75-4aae-bdaa-95c6105f955c"
      },
      "execution_count": null,
      "outputs": [
        {
          "output_type": "stream",
          "name": "stdout",
          "text": [
            "[[9. 8. 7.]\n",
            " [6. 5. 4.]]\n",
            "3\n"
          ]
        }
      ]
    },
    {
      "cell_type": "code",
      "source": [
        "# Dimension\n",
        "print(a.ndim)\n",
        "print(b.ndim)\n",
        "print(b1.ndim)"
      ],
      "metadata": {
        "colab": {
          "base_uri": "https://localhost:8080/"
        },
        "id": "0I2x5ONAbRaf",
        "outputId": "022fb796-4ab9-402b-d4c7-5c715e913522"
      },
      "execution_count": null,
      "outputs": [
        {
          "output_type": "stream",
          "name": "stdout",
          "text": [
            "1\n",
            "2\n",
            "3\n"
          ]
        }
      ]
    },
    {
      "cell_type": "code",
      "source": [
        "# shape\n",
        "print(a.shape)\n",
        "print(b.shape)\n",
        "print(b1.shape)"
      ],
      "metadata": {
        "colab": {
          "base_uri": "https://localhost:8080/"
        },
        "id": "3tjx19NMbej7",
        "outputId": "b7f1984a-0a48-4dab-c034-f86173628707"
      },
      "execution_count": null,
      "outputs": [
        {
          "output_type": "stream",
          "name": "stdout",
          "text": [
            "(3,)\n",
            "(2, 3)\n",
            "(1, 3, 3)\n"
          ]
        }
      ]
    },
    {
      "cell_type": "code",
      "source": [
        "# Type!\n",
        "print(a.dtype)\n",
        "print(b.dtype)\n",
        "a.dtype"
      ],
      "metadata": {
        "colab": {
          "base_uri": "https://localhost:8080/"
        },
        "id": "OO2KJpkTble6",
        "outputId": "0aaeac4b-3818-4d19-e89b-a593c3026e75"
      },
      "execution_count": null,
      "outputs": [
        {
          "output_type": "stream",
          "name": "stdout",
          "text": [
            "int64\n",
            "float64\n"
          ]
        },
        {
          "output_type": "execute_result",
          "data": {
            "text/plain": [
              "dtype('int64')"
            ]
          },
          "metadata": {},
          "execution_count": 33
        }
      ]
    },
    {
      "cell_type": "code",
      "source": [
        "# size\n",
        "print(a.itemsize)\n",
        "print(b.itemsize)"
      ],
      "metadata": {
        "colab": {
          "base_uri": "https://localhost:8080/"
        },
        "id": "cZ5jh0v6c1JE",
        "outputId": "f1e87f4b-5c95-4f93-d8a3-dcf310098071"
      },
      "execution_count": null,
      "outputs": [
        {
          "output_type": "stream",
          "name": "stdout",
          "text": [
            "8\n",
            "8\n"
          ]
        }
      ]
    },
    {
      "cell_type": "code",
      "source": [
        "import numpy as np\n",
        "c = np.array([1,2,3], dtype=\"int64\")\n",
        "print(c.dtype)\n",
        "print(c.itemsize)"
      ],
      "metadata": {
        "colab": {
          "base_uri": "https://localhost:8080/"
        },
        "id": "KNhHuiz_dG9z",
        "outputId": "657a9af4-c79b-4748-eabb-e66f87c28d6c"
      },
      "execution_count": null,
      "outputs": [
        {
          "output_type": "stream",
          "name": "stdout",
          "text": [
            "int64\n",
            "8\n"
          ]
        }
      ]
    },
    {
      "cell_type": "code",
      "source": [
        "# total size\n",
        "print(c.size)\n",
        "print(c.itemsize)\n",
        "\n",
        "total_size = c.size * c.itemsize\n",
        "print(total_size)"
      ],
      "metadata": {
        "colab": {
          "base_uri": "https://localhost:8080/"
        },
        "id": "JijCkHfUdfkO",
        "outputId": "278041f4-ac9f-4189-a63f-615a4ccd9249"
      },
      "execution_count": null,
      "outputs": [
        {
          "output_type": "stream",
          "name": "stdout",
          "text": [
            "3\n",
            "4\n",
            "12\n"
          ]
        }
      ]
    },
    {
      "cell_type": "code",
      "source": [
        "d = np.array([[1,2,3,4,5,6,7],[8,9,10,11,12,13,14]])\n",
        "print(d)"
      ],
      "metadata": {
        "colab": {
          "base_uri": "https://localhost:8080/"
        },
        "id": "bGzOSGBWd9Hd",
        "outputId": "3338a994-c710-4058-e10b-1020c1359070"
      },
      "execution_count": null,
      "outputs": [
        {
          "output_type": "stream",
          "name": "stdout",
          "text": [
            "[[ 1  2  3  4  5  6  7]\n",
            " [ 8  9 10 11 12 13 14]]\n"
          ]
        }
      ]
    },
    {
      "cell_type": "code",
      "source": [
        "# Getting a specific element [row, column]\n",
        "# How to access number 13\n",
        "print(d[1, 5])\n",
        "print(d[1, -2])"
      ],
      "metadata": {
        "colab": {
          "base_uri": "https://localhost:8080/"
        },
        "id": "qekI-bngeNKo",
        "outputId": "7a7c95d3-0905-44dd-e8f5-164af4e2efae"
      },
      "execution_count": null,
      "outputs": [
        {
          "output_type": "stream",
          "name": "stdout",
          "text": [
            "13\n",
            "13\n"
          ]
        }
      ]
    },
    {
      "cell_type": "code",
      "source": [
        "threed_array = ([])"
      ],
      "metadata": {
        "id": "064c-w6dWfHm"
      },
      "execution_count": null,
      "outputs": []
    },
    {
      "cell_type": "code",
      "source": [
        "#Create a NumPy array from the list [10, 20, 30, 40, 50].\n",
        "a1 = np.array([10, 20, 30, 40, 50])\n",
        "print(\"array:\",a1)\n",
        "a1"
      ],
      "metadata": {
        "colab": {
          "base_uri": "https://localhost:8080/"
        },
        "id": "NX1A17M4Y5YL",
        "outputId": "0e5f77a8-1922-4a07-ccc2-3f66944128d0"
      },
      "execution_count": null,
      "outputs": [
        {
          "output_type": "stream",
          "name": "stdout",
          "text": [
            "array: [10 20 30 40 50]\n"
          ]
        },
        {
          "output_type": "execute_result",
          "data": {
            "text/plain": [
              "array([10, 20, 30, 40, 50])"
            ]
          },
          "metadata": {},
          "execution_count": 18
        }
      ]
    },
    {
      "cell_type": "code",
      "source": [
        "#Create a 3x3 array of all zeros.\n",
        "# Only when one row, you do not need more than one []\n",
        "a2 = np.array([[0,0,0],[0,0,0],[0,0,0]])\n",
        "print(a2)\n",
        "\n",
        "a2b = np.zeros((3,3))\n",
        "print(a2b)"
      ],
      "metadata": {
        "colab": {
          "base_uri": "https://localhost:8080/"
        },
        "id": "3yG6FZLgZE0P",
        "outputId": "043c3e8e-36bd-45c4-83b8-1414043115ad"
      },
      "execution_count": null,
      "outputs": [
        {
          "output_type": "stream",
          "name": "stdout",
          "text": [
            "[[0 0 0]\n",
            " [0 0 0]\n",
            " [0 0 0]]\n",
            "[[0. 0. 0.]\n",
            " [0. 0. 0.]\n",
            " [0. 0. 0.]]\n"
          ]
        }
      ]
    },
    {
      "cell_type": "code",
      "source": [
        "#Create an array with values ranging from 1 to 10.\n",
        "#arange is array range, wheras rage is used without module.\n",
        "#Whenever range is being used, it is exclusive of the last value.\n",
        "a3 = np.arange(1,11)\n",
        "print(a3)"
      ],
      "metadata": {
        "colab": {
          "base_uri": "https://localhost:8080/"
        },
        "id": "htSFEhtNZ4aC",
        "outputId": "223c61a8-215c-4fa9-c342-ff5efa4b66cd"
      },
      "execution_count": null,
      "outputs": [
        {
          "output_type": "stream",
          "name": "stdout",
          "text": [
            "[ 1  2  3  4  5  6  7  8  9 10]\n"
          ]
        }
      ]
    },
    {
      "cell_type": "code",
      "source": [
        "#Create a 4x4 identity matrix.\n",
        "a4 = np.identity(4)\n",
        "print(a4, \"\\n\")\n",
        "\n",
        "a4b = np.eye(4)\n",
        "print(a4b, \"\\n\")\n",
        "\n",
        "a4c = np.diag([1,1,1,1])\n",
        "print(a4c, \"\\n\")"
      ],
      "metadata": {
        "colab": {
          "base_uri": "https://localhost:8080/"
        },
        "id": "-EHs7mlhbQOY",
        "outputId": "5f083487-0203-46ef-966a-cab2c668c2a7"
      },
      "execution_count": null,
      "outputs": [
        {
          "output_type": "stream",
          "name": "stdout",
          "text": [
            "[[1. 0. 0. 0.]\n",
            " [0. 1. 0. 0.]\n",
            " [0. 0. 1. 0.]\n",
            " [0. 0. 0. 1.]] \n",
            "\n",
            "[[1. 0. 0. 0.]\n",
            " [0. 1. 0. 0.]\n",
            " [0. 0. 1. 0.]\n",
            " [0. 0. 0. 1.]] \n",
            "\n",
            "[[1 0 0 0]\n",
            " [0 1 0 0]\n",
            " [0 0 1 0]\n",
            " [0 0 0 1]] \n",
            "\n"
          ]
        }
      ]
    },
    {
      "cell_type": "code",
      "source": [
        "#Create a 2x3 array with random values between 0 and 1.\n",
        "#Rand automatically chooses between 0 and 1.\n",
        "a5 = np.random.rand(2,3)\n",
        "print(a5, \"\\n\")\n",
        "\n",
        "#Between 10 and 20\n",
        "a5b = 10 + np.random.rand(2,3) * 10\n",
        "print(a5b)"
      ],
      "metadata": {
        "colab": {
          "base_uri": "https://localhost:8080/"
        },
        "id": "AGarAlqGcqDN",
        "outputId": "1b4b582c-703d-45dd-ec2e-229ed2142d1d"
      },
      "execution_count": null,
      "outputs": [
        {
          "output_type": "stream",
          "name": "stdout",
          "text": [
            "[[0.63150794 0.88277012 0.60148481]\n",
            " [0.51990309 0.32750407 0.50308328]] \n",
            "\n",
            "[[14.15406415 11.06870377 18.12857215]\n",
            " [15.15346064 16.59161773 18.16079594]]\n"
          ]
        }
      ]
    },
    {
      "cell_type": "code",
      "source": [
        "#Reshape the array [1, 2, 3, 4, 5, 6] into a 2x3 matrix.\n",
        "a6 = np.array([1, 2, 3, 4, 5, 6]).reshape(2,3)\n",
        "print(a6)"
      ],
      "metadata": {
        "colab": {
          "base_uri": "https://localhost:8080/"
        },
        "id": "ubqlxYi6dxnm",
        "outputId": "4a8b6ff1-754d-4ff4-aa1a-9295e602d2e3"
      },
      "execution_count": null,
      "outputs": [
        {
          "output_type": "stream",
          "name": "stdout",
          "text": [
            "[[1 2 3]\n",
            " [4 5 6]]\n"
          ]
        }
      ]
    },
    {
      "cell_type": "code",
      "source": [
        "#Calculate the mean of the array [10, 20, 30, 40, 50].\n",
        "a7 = np.array([10, 20, 30, 40, 50]).mean()\n",
        "print(a7)"
      ],
      "metadata": {
        "colab": {
          "base_uri": "https://localhost:8080/"
        },
        "id": "wjvFekYqeRvK",
        "outputId": "ae1e1596-adbe-43f5-b973-470d64f44566"
      },
      "execution_count": null,
      "outputs": [
        {
          "output_type": "stream",
          "name": "stdout",
          "text": [
            "30.0\n"
          ]
        }
      ]
    },
    {
      "cell_type": "code",
      "source": [
        "#Add the arrays [1, 2, 3] and [4, 5, 6] element-wise.\n",
        "arr1 = np.array([1, 2, 3])\n",
        "arr2 = np.array([4, 5, 6])\n",
        "a8 = arr1 + arr2\n",
        "print(a8, \"\\n\")\n",
        "\n",
        "arr1 = [1, 2, 3]\n",
        "arr2 = [4, 5, 6]\n",
        "a8 = np.add(arr1, arr2)\n",
        "print(a8)\n",
        "\n"
      ],
      "metadata": {
        "colab": {
          "base_uri": "https://localhost:8080/"
        },
        "id": "_LXZOWAsedrE",
        "outputId": "912201ca-06c3-4886-fb8d-0995a2d69359"
      },
      "execution_count": null,
      "outputs": [
        {
          "output_type": "stream",
          "name": "stdout",
          "text": [
            "[5 7 9] \n",
            "\n",
            "[5 7 9]\n"
          ]
        }
      ]
    },
    {
      "cell_type": "code",
      "source": [
        "#Multiply two 2x2 matrices: [[1, 2], [3, 4]] and [[5, 6], [7, 8]].\n",
        "arr3 = np.array([[1, 2], [3, 4]])\n",
        "arr4 = np.array([[5, 6], [7, 8]])\n",
        "a9 = np.matmul(arr3,arr4)\n",
        "a9b = arr3@arr4\n",
        "a9c = np.dot(arr3,arr4)\n",
        "print(arr3, \"\\n\")\n",
        "print(arr4, \"\\n\")\n",
        "print(a9, \"\\n\")\n",
        "print(a9b, \"\\n\")\n",
        "print(a9c)"
      ],
      "metadata": {
        "colab": {
          "base_uri": "https://localhost:8080/"
        },
        "id": "wYfToorYe6Lh",
        "outputId": "620df48b-3d4c-4dc2-b224-64b7f24a7d16"
      },
      "execution_count": null,
      "outputs": [
        {
          "output_type": "stream",
          "name": "stdout",
          "text": [
            "[[1 2]\n",
            " [3 4]] \n",
            "\n",
            "[[5 6]\n",
            " [7 8]] \n",
            "\n",
            "[[19 22]\n",
            " [43 50]] \n",
            "\n",
            "[[19 22]\n",
            " [43 50]] \n",
            "\n",
            "[[19 22]\n",
            " [43 50]]\n"
          ]
        }
      ]
    },
    {
      "cell_type": "code",
      "source": [
        "#Find the maximum value in the array [15, 22, 3, 44, 5].\n",
        "a10 = np.array([15, 22, 3, 44, 5]).max()\n",
        "print(a10)"
      ],
      "metadata": {
        "colab": {
          "base_uri": "https://localhost:8080/"
        },
        "id": "SkqzWx7QgzMj",
        "outputId": "c17df582-ab95-4013-c0e0-84bfa760fd70"
      },
      "execution_count": null,
      "outputs": [
        {
          "output_type": "stream",
          "name": "stdout",
          "text": [
            "44\n"
          ]
        }
      ]
    },
    {
      "cell_type": "code",
      "source": [
        "# array\n",
        "print(np.array([1, 2, 3])) # converts a list to an array.\n",
        "\n",
        "# asarray\n",
        "print(np.asarray([1, 2, 3])) # is similar to array, but won't copy if input is already an array.\n",
        "\n",
        "# arange\n",
        "print(np.arange(10)) # creates an array with values from 0 to 9.\n",
        "\n",
        "# ones\n",
        "print(np.ones((2, 2))) # creates a 2x2 array filled with 1s.\n",
        "\n",
        "# ones_like\n",
        "print(np.ones_like(np.array([[1, 2, 3],[4, 5, 6]]))) # creates an array filled with 1s, matching shape of the input.\n",
        "\n",
        "# zeros\n",
        "print(np.zeros((2, 2))) # creates a 2x2 array filled with 0s.\n",
        "\n",
        "# zeros_like\n",
        "print(np.zeros_like(np.array([[1, 2, 3],[4, 5, 6],[7, 8, 9]]))) # creates an array of zeros, matching shape of the input.\n",
        "\n",
        "# empty\n",
        "print(np.empty((2, 2))) # creates a 2x2 array without initializing entries.\n",
        "\n",
        "# empty_like\n",
        "print(np.empty_like(np.array([[1, 2, 3],[4, 5, 6],[7, 8, 9]]))) # creates an uninitialized array matching shape of the input.\n",
        "\n",
        "# full\n",
        "print(np.full((2, 2), 7)) # creates a 2x2 array filled with 7s.\n",
        "\n",
        "# full_like\n",
        "print(np.full_like(np.array([1, 2, 3]), 7)) # creates an array filled with 7s, matching shape of input.\n",
        "\n",
        "# eye\n",
        "print(np.eye(3)) # creates a 3x3 identity matrix.\n",
        "\n",
        "# identity\n",
        "print(np.identity(3)) # creates a 3x3 identity matrix.\n"
      ],
      "metadata": {
        "id": "V3krZuKb_5qi",
        "outputId": "eed1d7ef-ea8a-44eb-cc40-15b3986349c5",
        "colab": {
          "base_uri": "https://localhost:8080/"
        }
      },
      "execution_count": null,
      "outputs": [
        {
          "output_type": "stream",
          "name": "stdout",
          "text": [
            "[1 2 3]\n",
            "[1 2 3]\n",
            "[0 1 2 3 4 5 6 7 8 9]\n",
            "[[1. 1.]\n",
            " [1. 1.]]\n",
            "[[1 1 1]\n",
            " [1 1 1]]\n",
            "[[0. 0.]\n",
            " [0. 0.]]\n",
            "[[0 0 0]\n",
            " [0 0 0]\n",
            " [0 0 0]]\n",
            "[[0. 0.]\n",
            " [0. 0.]]\n",
            "[[1 2 3]\n",
            " [4 5 6]\n",
            " [7 8 9]]\n",
            "[[7 7]\n",
            " [7 7]]\n",
            "[7 7 7]\n",
            "[[1. 0. 0.]\n",
            " [0. 1. 0.]\n",
            " [0. 0. 1.]]\n",
            "[[1. 0. 0.]\n",
            " [0. 1. 0.]\n",
            " [0. 0. 1.]]\n"
          ]
        }
      ]
    }
  ]
}